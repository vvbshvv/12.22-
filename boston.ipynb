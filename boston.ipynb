{
 "cells": [
  {
   "cell_type": "code",
   "execution_count": 225,
   "metadata": {},
   "outputs": [],
   "source": [
    "import numpy as np\n",
    "import pandas as pd\n",
    "import matplotlib.pyplot as plt\n",
    "import seaborn as sns"
   ]
  },
  {
   "cell_type": "code",
   "execution_count": 226,
   "metadata": {},
   "outputs": [
    {
     "data": {
      "text/html": [
       "<div>\n",
       "<style scoped>\n",
       "    .dataframe tbody tr th:only-of-type {\n",
       "        vertical-align: middle;\n",
       "    }\n",
       "\n",
       "    .dataframe tbody tr th {\n",
       "        vertical-align: top;\n",
       "    }\n",
       "\n",
       "    .dataframe thead th {\n",
       "        text-align: right;\n",
       "    }\n",
       "</style>\n",
       "<table border=\"1\" class=\"dataframe\">\n",
       "  <thead>\n",
       "    <tr style=\"text-align: right;\">\n",
       "      <th></th>\n",
       "      <th>CRIM</th>\n",
       "      <th>ZN</th>\n",
       "      <th>INDUS</th>\n",
       "      <th>CHAS</th>\n",
       "      <th>NOX</th>\n",
       "      <th>RM</th>\n",
       "      <th>AGE</th>\n",
       "      <th>DIS</th>\n",
       "      <th>RAD</th>\n",
       "      <th>TAX</th>\n",
       "      <th>PTRATIO</th>\n",
       "      <th>B</th>\n",
       "      <th>LSTAT</th>\n",
       "      <th>price</th>\n",
       "    </tr>\n",
       "  </thead>\n",
       "  <tbody>\n",
       "    <tr>\n",
       "      <th>0</th>\n",
       "      <td>0.00632</td>\n",
       "      <td>18.0</td>\n",
       "      <td>2.31</td>\n",
       "      <td>0.0</td>\n",
       "      <td>0.538</td>\n",
       "      <td>6.575</td>\n",
       "      <td>65.2</td>\n",
       "      <td>4.0900</td>\n",
       "      <td>1.0</td>\n",
       "      <td>296.0</td>\n",
       "      <td>15.3</td>\n",
       "      <td>396.90</td>\n",
       "      <td>4.98</td>\n",
       "      <td>24.0</td>\n",
       "    </tr>\n",
       "    <tr>\n",
       "      <th>1</th>\n",
       "      <td>0.02731</td>\n",
       "      <td>0.0</td>\n",
       "      <td>7.07</td>\n",
       "      <td>0.0</td>\n",
       "      <td>0.469</td>\n",
       "      <td>6.421</td>\n",
       "      <td>78.9</td>\n",
       "      <td>4.9671</td>\n",
       "      <td>2.0</td>\n",
       "      <td>242.0</td>\n",
       "      <td>17.8</td>\n",
       "      <td>396.90</td>\n",
       "      <td>9.14</td>\n",
       "      <td>21.6</td>\n",
       "    </tr>\n",
       "    <tr>\n",
       "      <th>2</th>\n",
       "      <td>0.02729</td>\n",
       "      <td>0.0</td>\n",
       "      <td>7.07</td>\n",
       "      <td>0.0</td>\n",
       "      <td>0.469</td>\n",
       "      <td>7.185</td>\n",
       "      <td>61.1</td>\n",
       "      <td>4.9671</td>\n",
       "      <td>2.0</td>\n",
       "      <td>242.0</td>\n",
       "      <td>17.8</td>\n",
       "      <td>392.83</td>\n",
       "      <td>4.03</td>\n",
       "      <td>34.7</td>\n",
       "    </tr>\n",
       "    <tr>\n",
       "      <th>3</th>\n",
       "      <td>0.03237</td>\n",
       "      <td>0.0</td>\n",
       "      <td>2.18</td>\n",
       "      <td>0.0</td>\n",
       "      <td>0.458</td>\n",
       "      <td>6.998</td>\n",
       "      <td>45.8</td>\n",
       "      <td>6.0622</td>\n",
       "      <td>3.0</td>\n",
       "      <td>222.0</td>\n",
       "      <td>18.7</td>\n",
       "      <td>394.63</td>\n",
       "      <td>2.94</td>\n",
       "      <td>33.4</td>\n",
       "    </tr>\n",
       "    <tr>\n",
       "      <th>4</th>\n",
       "      <td>0.06905</td>\n",
       "      <td>0.0</td>\n",
       "      <td>2.18</td>\n",
       "      <td>0.0</td>\n",
       "      <td>0.458</td>\n",
       "      <td>7.147</td>\n",
       "      <td>54.2</td>\n",
       "      <td>6.0622</td>\n",
       "      <td>3.0</td>\n",
       "      <td>222.0</td>\n",
       "      <td>18.7</td>\n",
       "      <td>396.90</td>\n",
       "      <td>5.33</td>\n",
       "      <td>36.2</td>\n",
       "    </tr>\n",
       "    <tr>\n",
       "      <th>...</th>\n",
       "      <td>...</td>\n",
       "      <td>...</td>\n",
       "      <td>...</td>\n",
       "      <td>...</td>\n",
       "      <td>...</td>\n",
       "      <td>...</td>\n",
       "      <td>...</td>\n",
       "      <td>...</td>\n",
       "      <td>...</td>\n",
       "      <td>...</td>\n",
       "      <td>...</td>\n",
       "      <td>...</td>\n",
       "      <td>...</td>\n",
       "      <td>...</td>\n",
       "    </tr>\n",
       "    <tr>\n",
       "      <th>501</th>\n",
       "      <td>0.06263</td>\n",
       "      <td>0.0</td>\n",
       "      <td>11.93</td>\n",
       "      <td>0.0</td>\n",
       "      <td>0.573</td>\n",
       "      <td>6.593</td>\n",
       "      <td>69.1</td>\n",
       "      <td>2.4786</td>\n",
       "      <td>1.0</td>\n",
       "      <td>273.0</td>\n",
       "      <td>21.0</td>\n",
       "      <td>391.99</td>\n",
       "      <td>9.67</td>\n",
       "      <td>22.4</td>\n",
       "    </tr>\n",
       "    <tr>\n",
       "      <th>502</th>\n",
       "      <td>0.04527</td>\n",
       "      <td>0.0</td>\n",
       "      <td>11.93</td>\n",
       "      <td>0.0</td>\n",
       "      <td>0.573</td>\n",
       "      <td>6.120</td>\n",
       "      <td>76.7</td>\n",
       "      <td>2.2875</td>\n",
       "      <td>1.0</td>\n",
       "      <td>273.0</td>\n",
       "      <td>21.0</td>\n",
       "      <td>396.90</td>\n",
       "      <td>9.08</td>\n",
       "      <td>20.6</td>\n",
       "    </tr>\n",
       "    <tr>\n",
       "      <th>503</th>\n",
       "      <td>0.06076</td>\n",
       "      <td>0.0</td>\n",
       "      <td>11.93</td>\n",
       "      <td>0.0</td>\n",
       "      <td>0.573</td>\n",
       "      <td>6.976</td>\n",
       "      <td>91.0</td>\n",
       "      <td>2.1675</td>\n",
       "      <td>1.0</td>\n",
       "      <td>273.0</td>\n",
       "      <td>21.0</td>\n",
       "      <td>396.90</td>\n",
       "      <td>5.64</td>\n",
       "      <td>23.9</td>\n",
       "    </tr>\n",
       "    <tr>\n",
       "      <th>504</th>\n",
       "      <td>0.10959</td>\n",
       "      <td>0.0</td>\n",
       "      <td>11.93</td>\n",
       "      <td>0.0</td>\n",
       "      <td>0.573</td>\n",
       "      <td>6.794</td>\n",
       "      <td>89.3</td>\n",
       "      <td>2.3889</td>\n",
       "      <td>1.0</td>\n",
       "      <td>273.0</td>\n",
       "      <td>21.0</td>\n",
       "      <td>393.45</td>\n",
       "      <td>6.48</td>\n",
       "      <td>22.0</td>\n",
       "    </tr>\n",
       "    <tr>\n",
       "      <th>505</th>\n",
       "      <td>0.04741</td>\n",
       "      <td>0.0</td>\n",
       "      <td>11.93</td>\n",
       "      <td>0.0</td>\n",
       "      <td>0.573</td>\n",
       "      <td>6.030</td>\n",
       "      <td>80.8</td>\n",
       "      <td>2.5050</td>\n",
       "      <td>1.0</td>\n",
       "      <td>273.0</td>\n",
       "      <td>21.0</td>\n",
       "      <td>396.90</td>\n",
       "      <td>7.88</td>\n",
       "      <td>11.9</td>\n",
       "    </tr>\n",
       "  </tbody>\n",
       "</table>\n",
       "<p>506 rows × 14 columns</p>\n",
       "</div>"
      ],
      "text/plain": [
       "        CRIM    ZN  INDUS  CHAS    NOX     RM   AGE     DIS  RAD    TAX  \\\n",
       "0    0.00632  18.0   2.31   0.0  0.538  6.575  65.2  4.0900  1.0  296.0   \n",
       "1    0.02731   0.0   7.07   0.0  0.469  6.421  78.9  4.9671  2.0  242.0   \n",
       "2    0.02729   0.0   7.07   0.0  0.469  7.185  61.1  4.9671  2.0  242.0   \n",
       "3    0.03237   0.0   2.18   0.0  0.458  6.998  45.8  6.0622  3.0  222.0   \n",
       "4    0.06905   0.0   2.18   0.0  0.458  7.147  54.2  6.0622  3.0  222.0   \n",
       "..       ...   ...    ...   ...    ...    ...   ...     ...  ...    ...   \n",
       "501  0.06263   0.0  11.93   0.0  0.573  6.593  69.1  2.4786  1.0  273.0   \n",
       "502  0.04527   0.0  11.93   0.0  0.573  6.120  76.7  2.2875  1.0  273.0   \n",
       "503  0.06076   0.0  11.93   0.0  0.573  6.976  91.0  2.1675  1.0  273.0   \n",
       "504  0.10959   0.0  11.93   0.0  0.573  6.794  89.3  2.3889  1.0  273.0   \n",
       "505  0.04741   0.0  11.93   0.0  0.573  6.030  80.8  2.5050  1.0  273.0   \n",
       "\n",
       "     PTRATIO       B  LSTAT  price  \n",
       "0       15.3  396.90   4.98   24.0  \n",
       "1       17.8  396.90   9.14   21.6  \n",
       "2       17.8  392.83   4.03   34.7  \n",
       "3       18.7  394.63   2.94   33.4  \n",
       "4       18.7  396.90   5.33   36.2  \n",
       "..       ...     ...    ...    ...  \n",
       "501     21.0  391.99   9.67   22.4  \n",
       "502     21.0  396.90   9.08   20.6  \n",
       "503     21.0  396.90   5.64   23.9  \n",
       "504     21.0  393.45   6.48   22.0  \n",
       "505     21.0  396.90   7.88   11.9  \n",
       "\n",
       "[506 rows x 14 columns]"
      ]
     },
     "execution_count": 226,
     "metadata": {},
     "output_type": "execute_result"
    }
   ],
   "source": [
    "from sklearn.datasets import load_boston\n",
    "boston = load_boston()\n",
    "df = pd.DataFrame(boston.data, columns=boston.feature_names)\n",
    "df['price'] = boston.target\n",
    "df"
   ]
  },
  {
   "cell_type": "markdown",
   "metadata": {},
   "source": [
    "- 변수가 많기 때문에 주택가격과 상관계수가 0.3이상인 애들만 추려보자"
   ]
  },
  {
   "cell_type": "code",
   "execution_count": 227,
   "metadata": {},
   "outputs": [],
   "source": [
    "cormat=df.corr()\n",
    "columns=cormat.index[abs(cormat['price'])>=0.3]\n"
   ]
  },
  {
   "cell_type": "code",
   "execution_count": 228,
   "metadata": {},
   "outputs": [
    {
     "data": {
      "image/png": "[encoded data removed]",
      "text/plain": [
       "<Figure size 720x720 with 2 Axes>"
      ]
     },
     "metadata": {
      "needs_background": "light"
     },
     "output_type": "display_data"
    }
   ],
   "source": [
    "plt.figure(figsize=(10,10))\n",
    "heat = sns.heatmap(df[columns].corr(), annot=True, cmap='RdYlGn')"
   ]
  },
  {
   "cell_type": "markdown",
   "metadata": {},
   "source": [
    "- 우선적으로 price에 상관계수가 가장 큰 1개 만 뽑아서 단순선형회귀를 해보자"
   ]
  },
  {
   "cell_type": "code",
   "execution_count": 229,
   "metadata": {},
   "outputs": [
    {
     "data": {
      "text/plain": [
       "CHAS       0.175260\n",
       "DIS        0.249929\n",
       "B          0.333461\n",
       "ZN         0.360445\n",
       "AGE        0.376955\n",
       "RAD        0.381626\n",
       "CRIM       0.388305\n",
       "NOX        0.427321\n",
       "TAX        0.468536\n",
       "INDUS      0.483725\n",
       "PTRATIO    0.507787\n",
       "RM         0.695360\n",
       "LSTAT      0.737663\n",
       "price      1.000000\n",
       "Name: price, dtype: float64"
      ]
     },
     "execution_count": 229,
     "metadata": {},
     "output_type": "execute_result"
    }
   ],
   "source": [
    "abs(cormat['price']).sort_values(ascending=True) # lstat, rm을 변수로 단순선형회귀 ㄱㄱ"
   ]
  },
  {
   "cell_type": "markdown",
   "metadata": {},
   "source": [
    "- lstat열 데이터 가공"
   ]
  },
  {
   "cell_type": "code",
   "execution_count": 230,
   "metadata": {},
   "outputs": [
    {
     "data": {
      "text/plain": [
       "CRIM       0\n",
       "ZN         0\n",
       "INDUS      0\n",
       "CHAS       0\n",
       "NOX        0\n",
       "RM         0\n",
       "AGE        0\n",
       "DIS        0\n",
       "RAD        0\n",
       "TAX        0\n",
       "PTRATIO    0\n",
       "B          0\n",
       "LSTAT      0\n",
       "price      0\n",
       "dtype: int64"
      ]
     },
     "execution_count": 230,
     "metadata": {},
     "output_type": "execute_result"
    }
   ],
   "source": [
    "df.isna().sum()"
   ]
  },
  {
   "cell_type": "code",
   "execution_count": 231,
   "metadata": {},
   "outputs": [
    {
     "data": {
      "text/html": [
       "<div>\n",
       "<style scoped>\n",
       "    .dataframe tbody tr th:only-of-type {\n",
       "        vertical-align: middle;\n",
       "    }\n",
       "\n",
       "    .dataframe tbody tr th {\n",
       "        vertical-align: top;\n",
       "    }\n",
       "\n",
       "    .dataframe thead th {\n",
       "        text-align: right;\n",
       "    }\n",
       "</style>\n",
       "<table border=\"1\" class=\"dataframe\">\n",
       "  <thead>\n",
       "    <tr style=\"text-align: right;\">\n",
       "      <th></th>\n",
       "      <th>LSTAT</th>\n",
       "      <th>price</th>\n",
       "    </tr>\n",
       "  </thead>\n",
       "  <tbody>\n",
       "    <tr>\n",
       "      <th>0</th>\n",
       "      <td>4.98</td>\n",
       "      <td>24.0</td>\n",
       "    </tr>\n",
       "    <tr>\n",
       "      <th>1</th>\n",
       "      <td>9.14</td>\n",
       "      <td>21.6</td>\n",
       "    </tr>\n",
       "    <tr>\n",
       "      <th>2</th>\n",
       "      <td>4.03</td>\n",
       "      <td>34.7</td>\n",
       "    </tr>\n",
       "    <tr>\n",
       "      <th>3</th>\n",
       "      <td>2.94</td>\n",
       "      <td>33.4</td>\n",
       "    </tr>\n",
       "    <tr>\n",
       "      <th>4</th>\n",
       "      <td>5.33</td>\n",
       "      <td>36.2</td>\n",
       "    </tr>\n",
       "    <tr>\n",
       "      <th>...</th>\n",
       "      <td>...</td>\n",
       "      <td>...</td>\n",
       "    </tr>\n",
       "    <tr>\n",
       "      <th>501</th>\n",
       "      <td>9.67</td>\n",
       "      <td>22.4</td>\n",
       "    </tr>\n",
       "    <tr>\n",
       "      <th>502</th>\n",
       "      <td>9.08</td>\n",
       "      <td>20.6</td>\n",
       "    </tr>\n",
       "    <tr>\n",
       "      <th>503</th>\n",
       "      <td>5.64</td>\n",
       "      <td>23.9</td>\n",
       "    </tr>\n",
       "    <tr>\n",
       "      <th>504</th>\n",
       "      <td>6.48</td>\n",
       "      <td>22.0</td>\n",
       "    </tr>\n",
       "    <tr>\n",
       "      <th>505</th>\n",
       "      <td>7.88</td>\n",
       "      <td>11.9</td>\n",
       "    </tr>\n",
       "  </tbody>\n",
       "</table>\n",
       "<p>506 rows × 2 columns</p>\n",
       "</div>"
      ],
      "text/plain": [
       "     LSTAT  price\n",
       "0     4.98   24.0\n",
       "1     9.14   21.6\n",
       "2     4.03   34.7\n",
       "3     2.94   33.4\n",
       "4     5.33   36.2\n",
       "..     ...    ...\n",
       "501   9.67   22.4\n",
       "502   9.08   20.6\n",
       "503   5.64   23.9\n",
       "504   6.48   22.0\n",
       "505   7.88   11.9\n",
       "\n",
       "[506 rows x 2 columns]"
      ]
     },
     "execution_count": 231,
     "metadata": {},
     "output_type": "execute_result"
    }
   ],
   "source": [
    "df2 = df[['LSTAT','price']] # 표준화필요\n",
    "df2"
   ]
  },
  {
   "cell_type": "code",
   "execution_count": 232,
   "metadata": {},
   "outputs": [
    {
     "data": {
      "text/plain": [
       "Text(0.5, 0, 'price')"
      ]
     },
     "execution_count": 232,
     "metadata": {},
     "output_type": "execute_result"
    },
    {
     "data": {
      "image/png": "[encoded data removed]",
      "text/plain": [
       "<Figure size 864x864 with 2 Axes>"
      ]
     },
     "metadata": {
      "needs_background": "light"
     },
     "output_type": "display_data"
    }
   ],
   "source": [
    "plt.figure(figsize=(12,12)) #이상치 최소화 해주는 robustscaler도 써보자\n",
    "plt.subplot(121)\n",
    "plt.boxplot(df2.LSTAT)\n",
    "plt.xlabel('LSTAT')\n",
    "plt.subplot(122)\n",
    "plt.boxplot(df2.price)\n",
    "plt.xlabel('price')\n",
    "\n"
   ]
  },
  {
   "cell_type": "markdown",
   "metadata": {},
   "source": [
    "- train, test data set #우선적으로 RM 단순선형회귀"
   ]
  },
  {
   "cell_type": "code",
   "execution_count": 233,
   "metadata": {},
   "outputs": [
    {
     "data": {
      "text/plain": [
       "array([[ 4.98],\n",
       "       [ 9.14],\n",
       "       [ 4.03],\n",
       "       [ 2.94],\n",
       "       [ 5.33],\n",
       "       [ 5.21],\n",
       "       [12.43],\n",
       "       [19.15],\n",
       "       [29.93],\n",
       "       [17.1 ],\n",
       "       [20.45],\n",
       "       [13.27],\n",
       "       [15.71],\n",
       "       [ 8.26],\n",
       "       [10.26],\n",
       "       [ 8.47],\n",
       "       [ 6.58],\n",
       "       [14.67],\n",
       "       [11.69],\n",
       "       [11.28],\n",
       "       [21.02],\n",
       "       [13.83],\n",
       "       [18.72],\n",
       "       [19.88],\n",
       "       [16.3 ],\n",
       "       [16.51],\n",
       "       [14.81],\n",
       "       [17.28],\n",
       "       [12.8 ],\n",
       "       [11.98],\n",
       "       [22.6 ],\n",
       "       [13.04],\n",
       "       [27.71],\n",
       "       [18.35],\n",
       "       [20.34],\n",
       "       [ 9.68],\n",
       "       [11.41],\n",
       "       [ 8.77],\n",
       "       [10.13],\n",
       "       [ 4.32],\n",
       "       [ 1.98],\n",
       "       [ 4.84],\n",
       "       [ 5.81],\n",
       "       [ 7.44],\n",
       "       [ 9.55],\n",
       "       [10.21],\n",
       "       [14.15],\n",
       "       [18.8 ],\n",
       "       [30.81],\n",
       "       [16.2 ],\n",
       "       [13.45],\n",
       "       [ 9.43],\n",
       "       [ 5.28],\n",
       "       [ 8.43],\n",
       "       [14.8 ],\n",
       "       [ 4.81],\n",
       "       [ 5.77],\n",
       "       [ 3.95],\n",
       "       [ 6.86],\n",
       "       [ 9.22],\n",
       "       [13.15],\n",
       "       [14.44],\n",
       "       [ 6.73],\n",
       "       [ 9.5 ],\n",
       "       [ 8.05],\n",
       "       [ 4.67],\n",
       "       [10.24],\n",
       "       [ 8.1 ],\n",
       "       [13.09],\n",
       "       [ 8.79],\n",
       "       [ 6.72],\n",
       "       [ 9.88],\n",
       "       [ 5.52],\n",
       "       [ 7.54],\n",
       "       [ 6.78],\n",
       "       [ 8.94],\n",
       "       [11.97],\n",
       "       [10.27],\n",
       "       [12.34],\n",
       "       [ 9.1 ],\n",
       "       [ 5.29],\n",
       "       [ 7.22],\n",
       "       [ 6.72],\n",
       "       [ 7.51],\n",
       "       [ 9.62],\n",
       "       [ 6.53],\n",
       "       [12.86],\n",
       "       [ 8.44],\n",
       "       [ 5.5 ],\n",
       "       [ 5.7 ],\n",
       "       [ 8.81],\n",
       "       [ 8.2 ],\n",
       "       [ 8.16],\n",
       "       [ 6.21],\n",
       "       [10.59],\n",
       "       [ 6.65],\n",
       "       [11.34],\n",
       "       [ 4.21],\n",
       "       [ 3.57],\n",
       "       [ 6.19],\n",
       "       [ 9.42],\n",
       "       [ 7.67],\n",
       "       [10.63],\n",
       "       [13.44],\n",
       "       [12.33],\n",
       "       [16.47],\n",
       "       [18.66],\n",
       "       [14.09],\n",
       "       [12.27],\n",
       "       [15.55],\n",
       "       [13.  ],\n",
       "       [10.16],\n",
       "       [16.21],\n",
       "       [17.09],\n",
       "       [10.45],\n",
       "       [15.76],\n",
       "       [12.04],\n",
       "       [10.3 ],\n",
       "       [15.37],\n",
       "       [13.61],\n",
       "       [14.37],\n",
       "       [14.27],\n",
       "       [17.93],\n",
       "       [25.41],\n",
       "       [17.58],\n",
       "       [14.81],\n",
       "       [27.26],\n",
       "       [17.19],\n",
       "       [15.39],\n",
       "       [18.34],\n",
       "       [12.6 ],\n",
       "       [12.26],\n",
       "       [11.12],\n",
       "       [15.03],\n",
       "       [17.31],\n",
       "       [16.96],\n",
       "       [16.9 ],\n",
       "       [14.59],\n",
       "       [21.32],\n",
       "       [18.46],\n",
       "       [24.16],\n",
       "       [34.41],\n",
       "       [26.82],\n",
       "       [26.42],\n",
       "       [29.29],\n",
       "       [27.8 ],\n",
       "       [16.65],\n",
       "       [29.53],\n",
       "       [28.32],\n",
       "       [21.45],\n",
       "       [14.1 ],\n",
       "       [13.28],\n",
       "       [12.12],\n",
       "       [15.79],\n",
       "       [15.12],\n",
       "       [15.02],\n",
       "       [16.14],\n",
       "       [ 4.59],\n",
       "       [ 6.43],\n",
       "       [ 7.39],\n",
       "       [ 5.5 ],\n",
       "       [ 1.73],\n",
       "       [ 1.92],\n",
       "       [ 3.32],\n",
       "       [11.64],\n",
       "       [ 9.81],\n",
       "       [ 3.7 ],\n",
       "       [12.14],\n",
       "       [11.1 ],\n",
       "       [11.32],\n",
       "       [14.43],\n",
       "       [12.03],\n",
       "       [14.69],\n",
       "       [ 9.04],\n",
       "       [ 9.64],\n",
       "       [ 5.33],\n",
       "       [10.11],\n",
       "       [ 6.29],\n",
       "       [ 6.92],\n",
       "       [ 5.04],\n",
       "       [ 7.56],\n",
       "       [ 9.45],\n",
       "       [ 4.82],\n",
       "       [ 5.68],\n",
       "       [13.98],\n",
       "       [13.15],\n",
       "       [ 4.45],\n",
       "       [ 6.68],\n",
       "       [ 4.56],\n",
       "       [ 5.39],\n",
       "       [ 5.1 ],\n",
       "       [ 4.69],\n",
       "       [ 2.87],\n",
       "       [ 5.03],\n",
       "       [ 4.38],\n",
       "       [ 2.97],\n",
       "       [ 4.08],\n",
       "       [ 8.61],\n",
       "       [ 6.62],\n",
       "       [ 4.56],\n",
       "       [ 4.45],\n",
       "       [ 7.43],\n",
       "       [ 3.11],\n",
       "       [ 3.81],\n",
       "       [ 2.88],\n",
       "       [10.87],\n",
       "       [10.97],\n",
       "       [18.06],\n",
       "       [14.66],\n",
       "       [23.09],\n",
       "       [17.27],\n",
       "       [23.98],\n",
       "       [16.03],\n",
       "       [ 9.38],\n",
       "       [29.55],\n",
       "       [ 9.47],\n",
       "       [13.51],\n",
       "       [ 9.69],\n",
       "       [17.92],\n",
       "       [10.5 ],\n",
       "       [ 9.71],\n",
       "       [21.46],\n",
       "       [ 9.93],\n",
       "       [ 7.6 ],\n",
       "       [ 4.14],\n",
       "       [ 4.63],\n",
       "       [ 3.13],\n",
       "       [ 6.36],\n",
       "       [ 3.92],\n",
       "       [ 3.76],\n",
       "       [11.65],\n",
       "       [ 5.25],\n",
       "       [ 2.47],\n",
       "       [ 3.95],\n",
       "       [ 8.05],\n",
       "       [10.88],\n",
       "       [ 9.54],\n",
       "       [ 4.73],\n",
       "       [ 6.36],\n",
       "       [ 7.37],\n",
       "       [11.38],\n",
       "       [12.4 ],\n",
       "       [11.22],\n",
       "       [ 5.19],\n",
       "       [12.5 ],\n",
       "       [18.46],\n",
       "       [ 9.16],\n",
       "       [10.15],\n",
       "       [ 9.52],\n",
       "       [ 6.56],\n",
       "       [ 5.9 ],\n",
       "       [ 3.59],\n",
       "       [ 3.53],\n",
       "       [ 3.54],\n",
       "       [ 6.57],\n",
       "       [ 9.25],\n",
       "       [ 3.11],\n",
       "       [ 5.12],\n",
       "       [ 7.79],\n",
       "       [ 6.9 ],\n",
       "       [ 9.59],\n",
       "       [ 7.26],\n",
       "       [ 5.91],\n",
       "       [11.25],\n",
       "       [ 8.1 ],\n",
       "       [10.45],\n",
       "       [14.79],\n",
       "       [ 7.44],\n",
       "       [ 3.16],\n",
       "       [13.65],\n",
       "       [13.  ],\n",
       "       [ 6.59],\n",
       "       [ 7.73],\n",
       "       [ 6.58],\n",
       "       [ 3.53],\n",
       "       [ 2.98],\n",
       "       [ 6.05],\n",
       "       [ 4.16],\n",
       "       [ 7.19],\n",
       "       [ 4.85],\n",
       "       [ 3.76],\n",
       "       [ 4.59],\n",
       "       [ 3.01],\n",
       "       [ 3.16],\n",
       "       [ 7.85],\n",
       "       [ 8.23],\n",
       "       [12.93],\n",
       "       [ 7.14],\n",
       "       [ 7.6 ],\n",
       "       [ 9.51],\n",
       "       [ 3.33],\n",
       "       [ 3.56],\n",
       "       [ 4.7 ],\n",
       "       [ 8.58],\n",
       "       [10.4 ],\n",
       "       [ 6.27],\n",
       "       [ 7.39],\n",
       "       [15.84],\n",
       "       [ 4.97],\n",
       "       [ 4.74],\n",
       "       [ 6.07],\n",
       "       [ 9.5 ],\n",
       "       [ 8.67],\n",
       "       [ 4.86],\n",
       "       [ 6.93],\n",
       "       [ 8.93],\n",
       "       [ 6.47],\n",
       "       [ 7.53],\n",
       "       [ 4.54],\n",
       "       [ 9.97],\n",
       "       [12.64],\n",
       "       [ 5.98],\n",
       "       [11.72],\n",
       "       [ 7.9 ],\n",
       "       [ 9.28],\n",
       "       [11.5 ],\n",
       "       [18.33],\n",
       "       [15.94],\n",
       "       [10.36],\n",
       "       [12.73],\n",
       "       [ 7.2 ],\n",
       "       [ 6.87],\n",
       "       [ 7.7 ],\n",
       "       [11.74],\n",
       "       [ 6.12],\n",
       "       [ 5.08],\n",
       "       [ 6.15],\n",
       "       [12.79],\n",
       "       [ 9.97],\n",
       "       [ 7.34],\n",
       "       [ 9.09],\n",
       "       [12.43],\n",
       "       [ 7.83],\n",
       "       [ 5.68],\n",
       "       [ 6.75],\n",
       "       [ 8.01],\n",
       "       [ 9.8 ],\n",
       "       [10.56],\n",
       "       [ 8.51],\n",
       "       [ 9.74],\n",
       "       [ 9.29],\n",
       "       [ 5.49],\n",
       "       [ 8.65],\n",
       "       [ 7.18],\n",
       "       [ 4.61],\n",
       "       [10.53],\n",
       "       [12.67],\n",
       "       [ 6.36],\n",
       "       [ 5.99],\n",
       "       [ 5.89],\n",
       "       [ 5.98],\n",
       "       [ 5.49],\n",
       "       [ 7.79],\n",
       "       [ 4.5 ],\n",
       "       [ 8.05],\n",
       "       [ 5.57],\n",
       "       [17.6 ],\n",
       "       [13.27],\n",
       "       [11.48],\n",
       "       [12.67],\n",
       "       [ 7.79],\n",
       "       [14.19],\n",
       "       [10.19],\n",
       "       [14.64],\n",
       "       [ 5.29],\n",
       "       [ 7.12],\n",
       "       [14.  ],\n",
       "       [13.33],\n",
       "       [ 3.26],\n",
       "       [ 3.73],\n",
       "       [ 2.96],\n",
       "       [ 9.53],\n",
       "       [ 8.88],\n",
       "       [34.77],\n",
       "       [37.97],\n",
       "       [13.44],\n",
       "       [23.24],\n",
       "       [21.24],\n",
       "       [23.69],\n",
       "       [21.78],\n",
       "       [17.21],\n",
       "       [21.08],\n",
       "       [23.6 ],\n",
       "       [24.56],\n",
       "       [30.63],\n",
       "       [30.81],\n",
       "       [28.28],\n",
       "       [31.99],\n",
       "       [30.62],\n",
       "       [20.85],\n",
       "       [17.11],\n",
       "       [18.76],\n",
       "       [25.68],\n",
       "       [15.17],\n",
       "       [16.35],\n",
       "       [17.12],\n",
       "       [19.37],\n",
       "       [19.92],\n",
       "       [30.59],\n",
       "       [29.97],\n",
       "       [26.77],\n",
       "       [20.32],\n",
       "       [20.31],\n",
       "       [19.77],\n",
       "       [27.38],\n",
       "       [22.98],\n",
       "       [23.34],\n",
       "       [12.13],\n",
       "       [26.4 ],\n",
       "       [19.78],\n",
       "       [10.11],\n",
       "       [21.22],\n",
       "       [34.37],\n",
       "       [20.08],\n",
       "       [36.98],\n",
       "       [29.05],\n",
       "       [25.79],\n",
       "       [26.64],\n",
       "       [20.62],\n",
       "       [22.74],\n",
       "       [15.02],\n",
       "       [15.7 ],\n",
       "       [14.1 ],\n",
       "       [23.29],\n",
       "       [17.16],\n",
       "       [24.39],\n",
       "       [15.69],\n",
       "       [14.52],\n",
       "       [21.52],\n",
       "       [24.08],\n",
       "       [17.64],\n",
       "       [19.69],\n",
       "       [12.03],\n",
       "       [16.22],\n",
       "       [15.17],\n",
       "       [23.27],\n",
       "       [18.05],\n",
       "       [26.45],\n",
       "       [34.02],\n",
       "       [22.88],\n",
       "       [22.11],\n",
       "       [19.52],\n",
       "       [16.59],\n",
       "       [18.85],\n",
       "       [23.79],\n",
       "       [23.98],\n",
       "       [17.79],\n",
       "       [16.44],\n",
       "       [18.13],\n",
       "       [19.31],\n",
       "       [17.44],\n",
       "       [17.73],\n",
       "       [17.27],\n",
       "       [16.74],\n",
       "       [18.71],\n",
       "       [18.13],\n",
       "       [19.01],\n",
       "       [16.94],\n",
       "       [16.23],\n",
       "       [14.7 ],\n",
       "       [16.42],\n",
       "       [14.65],\n",
       "       [13.99],\n",
       "       [10.29],\n",
       "       [13.22],\n",
       "       [14.13],\n",
       "       [17.15],\n",
       "       [21.32],\n",
       "       [18.13],\n",
       "       [14.76],\n",
       "       [16.29],\n",
       "       [12.87],\n",
       "       [14.36],\n",
       "       [11.66],\n",
       "       [18.14],\n",
       "       [24.1 ],\n",
       "       [18.68],\n",
       "       [24.91],\n",
       "       [18.03],\n",
       "       [13.11],\n",
       "       [10.74],\n",
       "       [ 7.74],\n",
       "       [ 7.01],\n",
       "       [10.42],\n",
       "       [13.34],\n",
       "       [10.58],\n",
       "       [14.98],\n",
       "       [11.45],\n",
       "       [18.06],\n",
       "       [23.97],\n",
       "       [29.68],\n",
       "       [18.07],\n",
       "       [13.35],\n",
       "       [12.01],\n",
       "       [13.59],\n",
       "       [17.6 ],\n",
       "       [21.14],\n",
       "       [14.1 ],\n",
       "       [12.92],\n",
       "       [15.1 ],\n",
       "       [14.33],\n",
       "       [ 9.67],\n",
       "       [ 9.08],\n",
       "       [ 5.64],\n",
       "       [ 6.48],\n",
       "       [ 7.88]])"
      ]
     },
     "execution_count": 233,
     "metadata": {},
     "output_type": "execute_result"
    }
   ],
   "source": [
    "df2.LSTAT.values.reshape(-1,1)"
   ]
  },
  {
   "cell_type": "code",
   "execution_count": 234,
   "metadata": {},
   "outputs": [],
   "source": [
    "X=df2.LSTAT.values.reshape(-1,1) ## 단순 변수 일때 data shape를 바꿔줘야함\n",
    "y=df2.price"
   ]
  },
  {
   "cell_type": "code",
   "execution_count": 235,
   "metadata": {},
   "outputs": [],
   "source": [
    "from sklearn.model_selection import train_test_split\n",
    "X_train, X_test, y_train, y_test = train_test_split(\n",
    "    X,y,random_state=2021, test_size=0.3\n",
    ")"
   ]
  },
  {
   "cell_type": "code",
   "execution_count": 236,
   "metadata": {},
   "outputs": [
    {
     "data": {
      "text/plain": [
       "((354, 1), (152, 1))"
      ]
     },
     "execution_count": 236,
     "metadata": {},
     "output_type": "execute_result"
    }
   ],
   "source": [
    "X_train.shape, X_test.shape"
   ]
  },
  {
   "cell_type": "markdown",
   "metadata": {},
   "source": [
    "- 표준화"
   ]
  },
  {
   "cell_type": "code",
   "execution_count": 237,
   "metadata": {},
   "outputs": [],
   "source": [
    "from sklearn.preprocessing import StandardScaler\n",
    "std = StandardScaler()\n",
    "X_train_std = std.fit_transform(X_train)\n",
    "X_test_std = std.fit_transform(X_test)\n"
   ]
  },
  {
   "cell_type": "markdown",
   "metadata": {},
   "source": [
    "- 선형회귀 모델 ㄱㄱ"
   ]
  },
  {
   "cell_type": "code",
   "execution_count": 238,
   "metadata": {},
   "outputs": [
    {
     "data": {
      "text/plain": [
       "0.484874518232815"
      ]
     },
     "execution_count": 238,
     "metadata": {},
     "output_type": "execute_result"
    }
   ],
   "source": [
    "from sklearn.linear_model import LinearRegression\n",
    "lr = LinearRegression()\n",
    "lr.fit(X_train_std, y_train)\n",
    "lr.score(X_test_std, y_test) # ㅎㄷㄷ 정확도 개구림"
   ]
  },
  {
   "cell_type": "markdown",
   "metadata": {},
   "source": [
    "- 정규화 해보자"
   ]
  },
  {
   "cell_type": "code",
   "execution_count": 239,
   "metadata": {},
   "outputs": [],
   "source": [
    "from sklearn.preprocessing import MinMaxScaler\n",
    "mms =   MinMaxScaler()\n",
    "X_train_mms = mms.fit_transform(X_train)\n",
    "X_test_mms = mms.fit_transform(X_test)"
   ]
  },
  {
   "cell_type": "code",
   "execution_count": 240,
   "metadata": {},
   "outputs": [
    {
     "data": {
      "text/plain": [
       "0.4576600739003537"
      ]
     },
     "execution_count": 240,
     "metadata": {},
     "output_type": "execute_result"
    }
   ],
   "source": [
    "lr.fit(X_train_mms, y_train)\n",
    "lr.score(X_test_mms, y_test) #ㅎㄷㄷ 더구림"
   ]
  },
  {
   "cell_type": "markdown",
   "metadata": {},
   "source": [
    "- 그렇다면 robust를 써보자"
   ]
  },
  {
   "cell_type": "code",
   "execution_count": 241,
   "metadata": {},
   "outputs": [],
   "source": [
    "from sklearn.preprocessing import RobustScaler\n",
    "rb =   RobustScaler()\n",
    "X_train_rb = rb.fit_transform(X_train)\n",
    "X_test_rb = rb.fit_transform(X_test)"
   ]
  },
  {
   "cell_type": "code",
   "execution_count": 242,
   "metadata": {},
   "outputs": [
    {
     "data": {
      "text/plain": [
       "0.49721712344253755"
      ]
     },
     "execution_count": 242,
     "metadata": {},
     "output_type": "execute_result"
    }
   ],
   "source": [
    "lr.fit(X_train_rb, y_train)\n",
    "lr.score(X_test_rb, y_test) #조금 높아 졌지만 그래도 구림"
   ]
  },
  {
   "cell_type": "code",
   "execution_count": 243,
   "metadata": {},
   "outputs": [
    {
     "data": {
      "text/plain": [
       "(array([-9.92589264]), 23.81586831694418)"
      ]
     },
     "execution_count": 243,
     "metadata": {},
     "output_type": "execute_result"
    }
   ],
   "source": [
    "lr.coef_, lr.intercept_"
   ]
  },
  {
   "cell_type": "markdown",
   "metadata": {},
   "source": [
    "- 실제, 예측값 산점도"
   ]
  },
  {
   "cell_type": "code",
   "execution_count": 244,
   "metadata": {},
   "outputs": [
    {
     "data": {
      "image/png": "[encoded data removed]",
      "text/plain": [
       "<Figure size 864x864 with 1 Axes>"
      ]
     },
     "metadata": {
      "needs_background": "light"
     },
     "output_type": "display_data"
    }
   ],
   "source": [
    "y_pred = lr.predict(X_test_rb)\n",
    "plt.figure(figsize=(12,12))\n",
    "plt.scatter(X_test_rb, y_test)\n",
    "plt.scatter(X_test_rb, y_pred, c='r')\n",
    "plt.show()"
   ]
  },
  {
   "cell_type": "markdown",
   "metadata": {},
   "source": [
    "- 손실 얼마나되나 mse ㄱㄱ"
   ]
  },
  {
   "cell_type": "code",
   "execution_count": 245,
   "metadata": {},
   "outputs": [
    {
     "name": "stdout",
     "output_type": "stream",
     "text": [
      "train data mse : 40.72364786844334\n",
      "test data mse : 32.67775589935317\n"
     ]
    }
   ],
   "source": [
    "from sklearn.metrics import mean_squared_error\n",
    "y_pred_train = lr.predict(X_train_rb)\n",
    "print(f'train data mse : {mean_squared_error(y_train, y_pred_train)}') # train data의 mse\n",
    "print(f'test data mse : {mean_squared_error(y_test, y_pred)}') # test data의 mse"
   ]
  },
  {
   "cell_type": "markdown",
   "metadata": {},
   "source": [
    "- 결정계수는 얼마나 되는가 ㄱㄱ"
   ]
  },
  {
   "cell_type": "code",
   "execution_count": 246,
   "metadata": {},
   "outputs": [
    {
     "data": {
      "text/plain": [
       "0.3405953774958099"
      ]
     },
     "execution_count": 246,
     "metadata": {},
     "output_type": "execute_result"
    }
   ],
   "source": [
    "from sklearn.metrics import r2_score\n",
    "r2 = r2_score(y_pred, y_test)\n",
    "r2"
   ]
  },
  {
   "cell_type": "markdown",
   "metadata": {},
   "source": [
    "- 이제 X변수를 여러개로 설정 다중회귀 ㄱㄱ"
   ]
  },
  {
   "cell_type": "code",
   "execution_count": 247,
   "metadata": {},
   "outputs": [],
   "source": [
    "X2 = df.iloc[:,:-1] # target값 뺴고 전부 x값으로\n",
    "y2 = df.iloc[:,-1]"
   ]
  },
  {
   "cell_type": "code",
   "execution_count": 248,
   "metadata": {},
   "outputs": [],
   "source": [
    "from sklearn.model_selection import train_test_split\n",
    "X2_train, X2_test, y2_train, y2_test = train_test_split(\n",
    "    X2,y2,random_state=2021, test_size=0.3\n",
    ")"
   ]
  },
  {
   "cell_type": "markdown",
   "metadata": {},
   "source": [
    "- robust 스케일 적용"
   ]
  },
  {
   "cell_type": "code",
   "execution_count": 249,
   "metadata": {},
   "outputs": [],
   "source": [
    "from sklearn.preprocessing import RobustScaler\n",
    "rb2 = RobustScaler()\n",
    "X2_train_rb = rb2.fit_transform(X2_train)\n",
    "X2_test_rb = rb2.fit_transform(X2_test)"
   ]
  },
  {
   "cell_type": "markdown",
   "metadata": {},
   "source": [
    "- 모델 돌려보자 ㄱㄱ"
   ]
  },
  {
   "cell_type": "code",
   "execution_count": 250,
   "metadata": {},
   "outputs": [
    {
     "data": {
      "text/plain": [
       "0.4387504817844471"
      ]
     },
     "execution_count": 250,
     "metadata": {},
     "output_type": "execute_result"
    }
   ],
   "source": [
    "lr.fit(X2_train_rb, y2_train)\n",
    "lr.score(X2_test_rb, y2_test) # 머이래 낮음 ㅎㄷㄷ"
   ]
  },
  {
   "cell_type": "markdown",
   "metadata": {},
   "source": [
    "- 회귀계수, 절편"
   ]
  },
  {
   "cell_type": "code",
   "execution_count": 251,
   "metadata": {},
   "outputs": [
    {
     "data": {
      "text/plain": [
       "(array([-0.47866864,  0.61048131,  0.10924298,  3.21925464, -3.34503581,\n",
       "         2.88184325,  0.6060292 , -4.59282178,  7.02912569, -4.52277765,\n",
       "        -3.01161838,  0.2374505 , -5.74001113]),\n",
       " 23.318053319892375)"
      ]
     },
     "execution_count": 251,
     "metadata": {},
     "output_type": "execute_result"
    }
   ],
   "source": [
    "lr.coef_, lr.intercept_"
   ]
  },
  {
   "cell_type": "markdown",
   "metadata": {},
   "source": [
    "- 손실 mse 얼마나 되나?"
   ]
  },
  {
   "cell_type": "code",
   "execution_count": 260,
   "metadata": {},
   "outputs": [
    {
     "data": {
      "text/plain": [
       "(22.468290164143323, 36.47772350652302)"
      ]
     },
     "execution_count": 260,
     "metadata": {},
     "output_type": "execute_result"
    }
   ],
   "source": [
    "from sklearn.metrics import mean_squared_error\n",
    "y2_pred_train = lr.predict(X2_train_rb)\n",
    "y2_pred_test = lr.predict(X2_test_rb)\n",
    "mean_y2_train = mean_squared_error(y2_train, y2_pred_train)\n",
    "mean_y2_test = mean_squared_error(y2_test, y2_pred_test)\n",
    "mean_y2_train, mean_y2_test # 높으면 안되는데,,"
   ]
  },
  {
   "cell_type": "markdown",
   "metadata": {},
   "source": [
    "- r2 square ㄱㄱ"
   ]
  },
  {
   "cell_type": "code",
   "execution_count": 261,
   "metadata": {},
   "outputs": [
    {
     "data": {
      "text/plain": [
       "0.38591271507661506"
      ]
     },
     "execution_count": 261,
     "metadata": {},
     "output_type": "execute_result"
    }
   ],
   "source": [
    "from sklearn.metrics import r2_score\n",
    "r2 = r2_score(y2_pred_test, y_test)\n",
    "r2 # 요건 높아야 되는데 왜이럼?"
   ]
  },
  {
   "cell_type": "markdown",
   "metadata": {},
   "source": [
    "- 산점도 ㄱㄱ"
   ]
  },
  {
   "cell_type": "code",
   "execution_count": 254,
   "metadata": {},
   "outputs": [
    {
     "data": {
      "text/plain": [
       "5"
      ]
     },
     "execution_count": 254,
     "metadata": {},
     "output_type": "execute_result"
    }
   ],
   "source": [
    "np.argmax(df.columns == 'RM')"
   ]
  },
  {
   "cell_type": "code",
   "execution_count": 255,
   "metadata": {},
   "outputs": [
    {
     "data": {
      "text/plain": [
       "array([[5]], dtype=int64)"
      ]
     },
     "execution_count": 255,
     "metadata": {},
     "output_type": "execute_result"
    }
   ],
   "source": [
    "np.argwhere(df.columns == 'RM')"
   ]
  },
  {
   "cell_type": "code",
   "execution_count": 256,
   "metadata": {},
   "outputs": [
    {
     "data": {
      "text/plain": [
       "array([-0.30136986, -0.35194942, -0.4685634 , -0.76923077,  1.84685634,\n",
       "       -0.42641377,  0.34070952, -0.01756235, -0.15525114,  1.49139445,\n",
       "        3.66069547,  0.5486477 , -0.55005269,  3.12399017,  1.66280295,\n",
       "        0.25781524,  0.14682122, -0.03161222,  0.36459431,  0.85353003,\n",
       "       -0.29012996, -0.11029153, -0.58658237,  1.27081138, -0.85634001,\n",
       "        0.52054795, -0.26484018,  0.37021426,  0.42079382, -1.08254303,\n",
       "       -0.54583772,  0.6399719 , -0.4460836 ,  0.28170004,  0.9827889 ,\n",
       "       -0.7088163 ,  0.04847208,  0.34070952,  1.40990516, -0.40252898,\n",
       "       -0.34632947,  0.45029856,  1.34949069,  1.41974008, -1.07130313,\n",
       "       -0.15244117, -0.26624517,  1.09940288,  0.01053741,  0.43203372,\n",
       "       -1.16684229,  2.98208641,  0.07235687,  1.16965227, -0.2395504 ,\n",
       "       -0.41798384,  0.19318581,  0.09905163,  1.09097295, -0.45591851,\n",
       "        2.31190727, -0.31682473,  0.28872497, -0.1032666 ,  0.55145767,\n",
       "       -0.01053741, -0.07657183,  0.09202669, -0.44748858, -1.62346329,\n",
       "        0.67509659,  1.44502986,  0.34632947,  0.27889006, -0.33930453,\n",
       "       -3.24762908, -0.42500878, -0.60063224,  0.47558834,  0.07657183,\n",
       "        0.66666667, -0.71865121, -1.5995785 , -0.03301721,  1.30593607,\n",
       "       -0.07376185,  0.75939586,  0.91253952,  1.12609765, -0.23674043,\n",
       "        0.5261679 , -1.10221286,  0.56269758, -0.54443274, -0.19318581,\n",
       "       -0.51633298,  0.30698981, -0.76361082, -0.55145767, -0.64840183,\n",
       "        1.2455216 , -0.2971549 ,  0.45029856, -0.21847559,  1.28345627,\n",
       "       -2.32595715, -0.44748858,  1.13452757,  0.98981384,  1.37759045,\n",
       "        0.95187917, -0.06673692,  1.09097295, -0.12434141,  0.28451001,\n",
       "        0.12855638,  0.47277836, -0.24095539, -0.64840183,  0.02599227,\n",
       "       -0.31541974,  0.83667018, -0.42922374, -1.26097647, -0.40814893,\n",
       "       -0.47558834, -0.17351598,  1.18229715,  0.4798033 ,  0.87038988,\n",
       "        0.05268704, -0.04144714, -0.47839831,  0.97857394, -1.78222691,\n",
       "        0.4348437 , -0.39269406,  0.07657183,  0.7776607 ,  0.35335441,\n",
       "        0.63294696, -0.0456621 ,  1.62767826, -0.75518089, -0.49525817,\n",
       "       -0.10045662, -0.41517387,  0.28310502, -0.04847208, -0.50087812,\n",
       "       -1.10221286, -0.2283105 ])"
      ]
     },
     "execution_count": 256,
     "metadata": {},
     "output_type": "execute_result"
    }
   ],
   "source": [
    "X2_test_rb[:,5]"
   ]
  },
  {
   "cell_type": "code",
   "execution_count": 257,
   "metadata": {},
   "outputs": [
    {
     "data": {
      "text/plain": [
       "((152, 13), (152,))"
      ]
     },
     "execution_count": 257,
     "metadata": {},
     "output_type": "execute_result"
    }
   ],
   "source": [
    "X2_test_rb.shape, y_test.shape"
   ]
  },
  {
   "cell_type": "code",
   "execution_count": 258,
   "metadata": {},
   "outputs": [
    {
     "data": {
      "image/png": "[encoded data removed]",
      "text/plain": [
       "<Figure size 720x720 with 1 Axes>"
      ]
     },
     "metadata": {
      "needs_background": "light"
     },
     "output_type": "display_data"
    }
   ],
   "source": [
    "plt.figure(figsize=(10,10))\n",
    "plt.scatter(X2_test_rb[:,5], y_test, label='y_test')\n",
    "plt.scatter(X2_test_rb[:,5], y2_pred_test, label = 'y2_pred')\n",
    "plt.legend()\n",
    "plt.show()"
   ]
  }
 ],
 "metadata": {
  "interpreter": {
   "hash": "e3bde7f9be308a4ed5b677c98eb4e5423d8d4c39cb1152441ce9aa81adc70699"
  },
  "kernelspec": {
   "display_name": "Python 3.8.8 64-bit ('base': conda)",
   "language": "python",
   "name": "python3"
  },
  "language_info": {
   "codemirror_mode": {
    "name": "ipython",
    "version": 3
   },
   "file_extension": ".py",
   "mimetype": "text/x-python",
   "name": "python",
   "nbconvert_exporter": "python",
   "pygments_lexer": "ipython3",
   "version": "3.8.8"
  },
  "orig_nbformat": 4
 },
 "nbformat": 4,
 "nbformat_minor": 2
}
