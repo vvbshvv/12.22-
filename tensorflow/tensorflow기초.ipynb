{
 "cells": [
  {
   "cell_type": "code",
   "execution_count": 163,
   "metadata": {},
   "outputs": [
    {
     "data": {
      "text/plain": [
       "'2.7.0'"
      ]
     },
     "execution_count": 163,
     "metadata": {},
     "output_type": "execute_result"
    }
   ],
   "source": [
    "from tensorflow import keras\n",
    "keras.__version__"
   ]
  },
  {
   "cell_type": "code",
   "execution_count": 164,
   "metadata": {},
   "outputs": [],
   "source": [
    "from tensorflow.keras.datasets import mnist\n",
    "\n",
    "(train_images, train_labels), (test_images, test_labels) = mnist.load_data()"
   ]
  },
  {
   "cell_type": "code",
   "execution_count": 165,
   "metadata": {},
   "outputs": [
    {
     "data": {
      "text/plain": [
       "((60000, 28, 28), (10000, 28, 28))"
      ]
     },
     "execution_count": 165,
     "metadata": {},
     "output_type": "execute_result"
    }
   ],
   "source": [
    "train_images.shape, test_images.shape"
   ]
  },
  {
   "cell_type": "code",
   "execution_count": 166,
   "metadata": {},
   "outputs": [
    {
     "data": {
      "image/png": "[encoded data removed]",
      "text/plain": [
       "<Figure size 432x288 with 1 Axes>"
      ]
     },
     "metadata": {
      "needs_background": "light"
     },
     "output_type": "display_data"
    }
   ],
   "source": [
    "import matplotlib.pyplot as plt\n",
    "digit = train_images[4]\n",
    "\n",
    "plt.imshow(digit, cmap=plt.cm.binary)\n",
    "plt.show()"
   ]
  },
  {
   "cell_type": "code",
   "execution_count": 167,
   "metadata": {},
   "outputs": [
    {
     "data": {
      "text/plain": [
       "(60000, 28, 28)"
      ]
     },
     "execution_count": 167,
     "metadata": {},
     "output_type": "execute_result"
    }
   ],
   "source": [
    "train_images.shape"
   ]
  },
  {
   "cell_type": "code",
   "execution_count": 168,
   "metadata": {},
   "outputs": [
    {
     "data": {
      "text/plain": [
       "9"
      ]
     },
     "execution_count": 168,
     "metadata": {},
     "output_type": "execute_result"
    }
   ],
   "source": [
    "train_labels[4]"
   ]
  },
  {
   "cell_type": "code",
   "execution_count": 169,
   "metadata": {},
   "outputs": [],
   "source": [
    "from tensorflow.keras import models\n",
    "from tensorflow.keras import layers\n",
    "\n",
    "network = models.Sequential()\n",
    "network.add(layers.Dense(512, activation='relu', input_shape=(28*28,)))\n",
    "network.add(layers.Dense(10, activation='softmax')) #분류모델은 'sigmoid' 멀티클래스 'softmax' #회귀모델인 경우 'linear'"
   ]
  },
  {
   "cell_type": "code",
   "execution_count": 170,
   "metadata": {},
   "outputs": [],
   "source": [
    "# 모델 형성시 필요한 조건\n",
    "# 1. 가운데 정보가 가장 많아야 한다(사진같이)\n",
    "# 2. 이미지는 공간적으로  픽셀같에 커릴레이션?(연관성?) 정보를 유지할 수 있어야한다.\n",
    "# 3. 각각의 채널의 방향은 독립이다.\n",
    "# 4. 이미지는 이미지자체의 배열정보도 같이 저장해야한다.\n",
    "# 5. 딥러닝 모델은 모든 layer를 학습할 필요 없다 개개소 layer만 재학습돌려도 잘 작동"
   ]
  },
  {
   "cell_type": "code",
   "execution_count": 171,
   "metadata": {},
   "outputs": [
    {
     "data": {
      "text/plain": [
       "401920"
      ]
     },
     "execution_count": 171,
     "metadata": {},
     "output_type": "execute_result"
    }
   ],
   "source": [
    "785*512"
   ]
  },
  {
   "cell_type": "code",
   "execution_count": 172,
   "metadata": {},
   "outputs": [
    {
     "name": "stdout",
     "output_type": "stream",
     "text": [
      "Model: \"sequential_16\"\n",
      "_________________________________________________________________\n",
      " Layer (type)                Output Shape              Param #   \n",
      "=================================================================\n",
      " dense_19 (Dense)            (None, 512)               401920    \n",
      "                                                                 \n",
      " dense_20 (Dense)            (None, 10)                5130      \n",
      "                                                                 \n",
      "=================================================================\n",
      "Total params: 407,050\n",
      "Trainable params: 407,050\n",
      "Non-trainable params: 0\n",
      "_________________________________________________________________\n"
     ]
    }
   ],
   "source": [
    "network.summary() # 모든 학습파라메타 407050, 학습가능 407050 학습 불가능 0"
   ]
  },
  {
   "cell_type": "code",
   "execution_count": 173,
   "metadata": {},
   "outputs": [
    {
     "data": {
      "text/plain": [
       "(TensorShape([784, 512]), TensorShape([512]))"
      ]
     },
     "execution_count": 173,
     "metadata": {},
     "output_type": "execute_result"
    }
   ],
   "source": [
    "ly0=network.layers[0]\n",
    "ly0.weights\n",
    "w1 = ly0.weights[0]\n",
    "b1 = ly0.weights[1]\n",
    "\n",
    "w1.shape, b1.shape #입력사이즈 512, 출력사이즈 10"
   ]
  },
  {
   "cell_type": "code",
   "execution_count": 174,
   "metadata": {},
   "outputs": [],
   "source": [
    "network.compile(optimizer='rmsprop', loss='categorical_crossentropy',metrics=['accuracy'])"
   ]
  },
  {
   "cell_type": "code",
   "execution_count": 175,
   "metadata": {},
   "outputs": [],
   "source": [
    "train_images = train_images.reshape((60000, 28*28))\n",
    "train_images = train_images.astype('float32') / 255\n",
    "\n",
    "test_images = test_images.reshape((10000, 28*28))\n",
    "test_images = test_images.astype('float32') / 255"
   ]
  },
  {
   "cell_type": "code",
   "execution_count": 176,
   "metadata": {},
   "outputs": [],
   "source": [
    "from tensorflow.keras.utils import to_categorical\n",
    "train_labels = to_categorical(train_labels)\n",
    "test_labels = to_categorical(test_labels)"
   ]
  },
  {
   "cell_type": "code",
   "execution_count": 177,
   "metadata": {},
   "outputs": [
    {
     "data": {
      "text/plain": [
       "(60000, 10)"
      ]
     },
     "execution_count": 177,
     "metadata": {},
     "output_type": "execute_result"
    }
   ],
   "source": [
    "train_labels.shape"
   ]
  },
  {
   "cell_type": "code",
   "execution_count": 178,
   "metadata": {},
   "outputs": [
    {
     "name": "stdout",
     "output_type": "stream",
     "text": [
      "Epoch 1/5\n",
      "469/469 [==============================] - 2s 4ms/step - loss: 0.2608 - accuracy: 0.9251\n",
      "Epoch 2/5\n",
      "469/469 [==============================] - 2s 4ms/step - loss: 0.1042 - accuracy: 0.9690\n",
      "Epoch 3/5\n",
      "469/469 [==============================] - 2s 4ms/step - loss: 0.0682 - accuracy: 0.9797\n",
      "Epoch 4/5\n",
      "469/469 [==============================] - 2s 4ms/step - loss: 0.0506 - accuracy: 0.9845\n",
      "Epoch 5/5\n",
      "469/469 [==============================] - 2s 4ms/step - loss: 0.0377 - accuracy: 0.9883\n"
     ]
    }
   ],
   "source": [
    "hist = network.fit(train_images, train_labels, epochs=5, batch_size=128)"
   ]
  },
  {
   "cell_type": "code",
   "execution_count": 179,
   "metadata": {},
   "outputs": [
    {
     "name": "stdout",
     "output_type": "stream",
     "text": [
      "313/313 [==============================] - 1s 2ms/step - loss: 0.0679 - accuracy: 0.9800\n"
     ]
    }
   ],
   "source": [
    "test_loss, test_acc = network.evaluate(test_images, test_labels)"
   ]
  },
  {
   "cell_type": "code",
   "execution_count": 180,
   "metadata": {},
   "outputs": [
    {
     "name": "stdout",
     "output_type": "stream",
     "text": [
      "test_acc: 0.9800000190734863\n"
     ]
    }
   ],
   "source": [
    "print('test_acc:', test_acc)"
   ]
  },
  {
   "cell_type": "code",
   "execution_count": 181,
   "metadata": {},
   "outputs": [],
   "source": [
    "from sklearn.datasets import load_iris\n",
    "iris = load_iris()\n",
    "X=iris.data\n",
    "y=iris.target"
   ]
  },
  {
   "cell_type": "code",
   "execution_count": 182,
   "metadata": {},
   "outputs": [
    {
     "data": {
      "text/plain": [
       "array([0, 0, 0, 0, 0, 0, 0, 0, 0, 0, 0, 0, 0, 0, 0, 0, 0, 0, 0, 0, 0, 0,\n",
       "       0, 0, 0, 0, 0, 0, 0, 0, 0, 0, 0, 0, 0, 0, 0, 0, 0, 0, 0, 0, 0, 0,\n",
       "       0, 0, 0, 0, 0, 0, 1, 1, 1, 1, 1, 1, 1, 1, 1, 1, 1, 1, 1, 1, 1, 1,\n",
       "       1, 1, 1, 1, 1, 1, 1, 1, 1, 1, 1, 1, 1, 1, 1, 1, 1, 1, 1, 1, 1, 1,\n",
       "       1, 1, 1, 1, 1, 1, 1, 1, 1, 1, 1, 1, 2, 2, 2, 2, 2, 2, 2, 2, 2, 2,\n",
       "       2, 2, 2, 2, 2, 2, 2, 2, 2, 2, 2, 2, 2, 2, 2, 2, 2, 2, 2, 2, 2, 2,\n",
       "       2, 2, 2, 2, 2, 2, 2, 2, 2, 2, 2, 2, 2, 2, 2, 2, 2, 2])"
      ]
     },
     "execution_count": 182,
     "metadata": {},
     "output_type": "execute_result"
    }
   ],
   "source": [
    "y"
   ]
  },
  {
   "cell_type": "code",
   "execution_count": 183,
   "metadata": {},
   "outputs": [],
   "source": [
    "from sklearn.model_selection import train_test_split\n",
    "X_train, X_test, y_train, y_test = train_test_split(X,y,stratify=y, \n",
    "random_state=2022, test_size=0.3)"
   ]
  },
  {
   "cell_type": "code",
   "execution_count": 184,
   "metadata": {},
   "outputs": [
    {
     "data": {
      "text/plain": [
       "(105, 4)"
      ]
     },
     "execution_count": 184,
     "metadata": {},
     "output_type": "execute_result"
    }
   ],
   "source": [
    "X_train.shape"
   ]
  },
  {
   "cell_type": "code",
   "execution_count": 185,
   "metadata": {},
   "outputs": [],
   "source": [
    "import tensorflow as tf\n",
    "from tensorflow.keras import models\n",
    "model = models.Sequential()\n",
    "model.add(tf.keras.layers.Dense(units=6, input_dim = X_train.shape[1], \n",
    "activation='tanh'))\n"
   ]
  },
  {
   "cell_type": "code",
   "execution_count": 186,
   "metadata": {},
   "outputs": [],
   "source": [
    "model.add(tf.keras.layers.Dense(units=3, activation='softmax'))"
   ]
  },
  {
   "cell_type": "code",
   "execution_count": 187,
   "metadata": {},
   "outputs": [
    {
     "name": "stdout",
     "output_type": "stream",
     "text": [
      "Model: \"sequential_17\"\n",
      "_________________________________________________________________\n",
      " Layer (type)                Output Shape              Param #   \n",
      "=================================================================\n",
      " dense_21 (Dense)            (None, 6)                 30        \n",
      "                                                                 \n",
      " dense_22 (Dense)            (None, 3)                 21        \n",
      "                                                                 \n",
      "=================================================================\n",
      "Total params: 51\n",
      "Trainable params: 51\n",
      "Non-trainable params: 0\n",
      "_________________________________________________________________\n"
     ]
    }
   ],
   "source": [
    "model.summary()"
   ]
  },
  {
   "cell_type": "code",
   "execution_count": 188,
   "metadata": {},
   "outputs": [],
   "source": [
    "optimizer = tf.keras.optimizers.SGD(learning_rate=0.01, momentum=0.9, nesterov=True)\n"
   ]
  },
  {
   "cell_type": "code",
   "execution_count": 189,
   "metadata": {},
   "outputs": [],
   "source": [
    "model.compile(optimizer = optimizer, loss = 'categorical_crossentropy')"
   ]
  },
  {
   "cell_type": "code",
   "execution_count": 190,
   "metadata": {},
   "outputs": [],
   "source": [
    "label_tr = tf.keras.utils.to_categorical(y_train)"
   ]
  },
  {
   "cell_type": "code",
   "execution_count": 191,
   "metadata": {},
   "outputs": [
    {
     "name": "stdout",
     "output_type": "stream",
     "text": [
      "Epoch 1/20\n",
      "7/7 [==============================] - 0s 997us/step - loss: 1.3825\n",
      "Epoch 2/20\n",
      "7/7 [==============================] - 0s 994us/step - loss: 1.0630\n",
      "Epoch 3/20\n",
      "7/7 [==============================] - 0s 831us/step - loss: 1.0286\n",
      "Epoch 4/20\n",
      "7/7 [==============================] - 0s 831us/step - loss: 0.8863\n",
      "Epoch 5/20\n",
      "7/7 [==============================] - 0s 1ms/step - loss: 0.7210\n",
      "Epoch 6/20\n",
      "7/7 [==============================] - 0s 997us/step - loss: 0.6137\n",
      "Epoch 7/20\n",
      "7/7 [==============================] - 0s 1ms/step - loss: 0.5210\n",
      "Epoch 8/20\n",
      "7/7 [==============================] - 0s 998us/step - loss: 0.4609\n",
      "Epoch 9/20\n",
      "7/7 [==============================] - 0s 1ms/step - loss: 0.4048\n",
      "Epoch 10/20\n",
      "7/7 [==============================] - 0s 1ms/step - loss: 0.3724\n",
      "Epoch 11/20\n",
      "7/7 [==============================] - 0s 831us/step - loss: 0.3425\n",
      "Epoch 12/20\n",
      "7/7 [==============================] - 0s 997us/step - loss: 0.3101\n",
      "Epoch 13/20\n",
      "7/7 [==============================] - 0s 997us/step - loss: 0.2867\n",
      "Epoch 14/20\n",
      "7/7 [==============================] - 0s 1ms/step - loss: 0.2597\n",
      "Epoch 15/20\n",
      "7/7 [==============================] - 0s 665us/step - loss: 0.2526\n",
      "Epoch 16/20\n",
      "7/7 [==============================] - 0s 997us/step - loss: 0.2284\n",
      "Epoch 17/20\n",
      "7/7 [==============================] - 0s 997us/step - loss: 0.2284\n",
      "Epoch 18/20\n",
      "7/7 [==============================] - 0s 1ms/step - loss: 0.1991\n",
      "Epoch 19/20\n",
      "7/7 [==============================] - 0s 997us/step - loss: 0.2029\n",
      "Epoch 20/20\n",
      "7/7 [==============================] - 0s 1ms/step - loss: 0.1832\n"
     ]
    }
   ],
   "source": [
    "history = model.fit(X_train, label_tr, batch_size=16, epochs=20)"
   ]
  },
  {
   "cell_type": "code",
   "execution_count": 192,
   "metadata": {},
   "outputs": [
    {
     "name": "stdout",
     "output_type": "stream",
     "text": [
      "2/2 [==============================] - 0s 996us/step - loss: 0.2314\n"
     ]
    },
    {
     "data": {
      "text/plain": [
       "0.2313658446073532"
      ]
     },
     "execution_count": 192,
     "metadata": {},
     "output_type": "execute_result"
    }
   ],
   "source": [
    "y_test = to_categorical(y_test)\n",
    "model.evaluate(X_test, y_test)\n"
   ]
  },
  {
   "cell_type": "code",
   "execution_count": 193,
   "metadata": {},
   "outputs": [],
   "source": [
    "from sklearn.datasets import load_boston\n",
    "boston = load_boston()\n",
    "from sklearn.model_selection import train_test_split\n",
    "X_train, X_test, y_train, y_test = train_test_split(boston.data, boston.target)"
   ]
  },
  {
   "cell_type": "code",
   "execution_count": 194,
   "metadata": {},
   "outputs": [
    {
     "data": {
      "text/plain": [
       "13"
      ]
     },
     "execution_count": 194,
     "metadata": {},
     "output_type": "execute_result"
    }
   ],
   "source": [
    "X_train.shape[1]"
   ]
  },
  {
   "cell_type": "code",
   "execution_count": 195,
   "metadata": {},
   "outputs": [],
   "source": [
    "from tensorflow.keras import Sequential\n",
    "import tensorflow.keras.layers as lp\n",
    "net = Sequential()\n",
    "net.add(tensorflow.keras.layers.Dense(25, activation='relu', input_dim =X_train.shape[1]))"
   ]
  },
  {
   "cell_type": "code",
   "execution_count": 196,
   "metadata": {},
   "outputs": [],
   "source": [
    "net.add(lp.Dense(6, activation='relu'))\n",
    "net.add(lp.Dense(2,activation='linear'))"
   ]
  },
  {
   "cell_type": "code",
   "execution_count": 197,
   "metadata": {},
   "outputs": [
    {
     "name": "stdout",
     "output_type": "stream",
     "text": [
      "Model: \"sequential_18\"\n",
      "_________________________________________________________________\n",
      " Layer (type)                Output Shape              Param #   \n",
      "=================================================================\n",
      " dense_23 (Dense)            (None, 25)                350       \n",
      "                                                                 \n",
      " dense_24 (Dense)            (None, 6)                 156       \n",
      "                                                                 \n",
      " dense_25 (Dense)            (None, 2)                 14        \n",
      "                                                                 \n",
      "=================================================================\n",
      "Total params: 520\n",
      "Trainable params: 520\n",
      "Non-trainable params: 0\n",
      "_________________________________________________________________\n"
     ]
    }
   ],
   "source": [
    "net.summary()"
   ]
  },
  {
   "cell_type": "code",
   "execution_count": 198,
   "metadata": {},
   "outputs": [
    {
     "ename": "IndentationError",
     "evalue": "unexpected indent (<ipython-input-198-8ca88a334cfc>, line 2)",
     "output_type": "error",
     "traceback": [
      "\u001b[1;36m  File \u001b[1;32m\"<ipython-input-198-8ca88a334cfc>\"\u001b[1;36m, line \u001b[1;32m2\u001b[0m\n\u001b[1;33m    return np.square(y - p).mean()\u001b[0m\n\u001b[1;37m    ^\u001b[0m\n\u001b[1;31mIndentationError\u001b[0m\u001b[1;31m:\u001b[0m unexpected indent\n"
     ]
    }
   ],
   "source": [
    "#def mse(y, p):\n",
    "    return np.square(y - p).mean()\n",
    "\n",
    "#def mae(y, p):\n",
    "    return np.abs(y - p).mean()"
   ]
  },
  {
   "cell_type": "code",
   "execution_count": 199,
   "metadata": {},
   "outputs": [
    {
     "name": "stdout",
     "output_type": "stream",
     "text": [
      "Epoch 1/50\n",
      "24/24 [==============================] - 0s 5ms/step - loss: 20625.7129 - mae: 105.2538 - val_loss: 9710.7754 - val_mae: 72.1924\n",
      "Epoch 2/50\n",
      "24/24 [==============================] - 0s 2ms/step - loss: 6383.4619 - mae: 58.7697 - val_loss: 4789.2588 - val_mae: 52.3181\n",
      "Epoch 3/50\n",
      "24/24 [==============================] - 0s 2ms/step - loss: 3676.4719 - mae: 46.1120 - val_loss: 2915.5679 - val_mae: 42.0534\n",
      "Epoch 4/50\n",
      "24/24 [==============================] - 0s 2ms/step - loss: 2248.2773 - mae: 37.2947 - val_loss: 1810.1398 - val_mae: 34.2946\n",
      "Epoch 5/50\n",
      "24/24 [==============================] - 0s 2ms/step - loss: 1369.4697 - mae: 30.3526 - val_loss: 1095.5061 - val_mae: 27.9630\n",
      "Epoch 6/50\n",
      "24/24 [==============================] - 0s 2ms/step - loss: 818.2159 - mae: 24.7642 - val_loss: 708.9077 - val_mae: 23.4407\n",
      "Epoch 7/50\n",
      "24/24 [==============================] - 0s 2ms/step - loss: 618.5723 - mae: 22.0561 - val_loss: 635.7988 - val_mae: 22.1886\n",
      "Epoch 8/50\n",
      "24/24 [==============================] - 0s 2ms/step - loss: 575.1568 - mae: 21.1870 - val_loss: 603.5992 - val_mae: 21.5285\n",
      "Epoch 9/50\n",
      "24/24 [==============================] - 0s 2ms/step - loss: 549.9484 - mae: 20.5989 - val_loss: 579.5901 - val_mae: 21.0210\n",
      "Epoch 10/50\n",
      "24/24 [==============================] - 0s 2ms/step - loss: 528.9781 - mae: 20.0825 - val_loss: 558.5635 - val_mae: 20.5404\n",
      "Epoch 11/50\n",
      "24/24 [==============================] - 0s 2ms/step - loss: 509.8452 - mae: 19.5753 - val_loss: 537.9263 - val_mae: 20.0198\n",
      "Epoch 12/50\n",
      "24/24 [==============================] - 0s 2ms/step - loss: 490.8340 - mae: 19.0718 - val_loss: 518.4124 - val_mae: 19.5107\n",
      "Epoch 13/50\n",
      "24/24 [==============================] - 0s 2ms/step - loss: 472.6728 - mae: 18.5608 - val_loss: 498.4740 - val_mae: 18.9591\n",
      "Epoch 14/50\n",
      "24/24 [==============================] - 0s 2ms/step - loss: 454.3380 - mae: 18.0349 - val_loss: 479.6182 - val_mae: 18.4327\n",
      "Epoch 15/50\n",
      "24/24 [==============================] - 0s 2ms/step - loss: 436.5581 - mae: 17.5275 - val_loss: 460.8391 - val_mae: 17.9247\n",
      "Epoch 16/50\n",
      "24/24 [==============================] - 0s 2ms/step - loss: 418.9554 - mae: 17.0338 - val_loss: 443.1029 - val_mae: 17.4423\n",
      "Epoch 17/50\n",
      "24/24 [==============================] - 0s 2ms/step - loss: 402.0630 - mae: 16.5473 - val_loss: 425.1930 - val_mae: 16.9381\n",
      "Epoch 18/50\n",
      "24/24 [==============================] - 0s 2ms/step - loss: 385.2318 - mae: 16.0835 - val_loss: 408.0891 - val_mae: 16.4881\n",
      "Epoch 19/50\n",
      "24/24 [==============================] - 0s 2ms/step - loss: 368.7605 - mae: 15.6358 - val_loss: 391.2815 - val_mae: 16.0624\n",
      "Epoch 20/50\n",
      "24/24 [==============================] - 0s 2ms/step - loss: 352.7645 - mae: 15.2010 - val_loss: 374.5677 - val_mae: 15.6470\n",
      "Epoch 21/50\n",
      "24/24 [==============================] - 0s 2ms/step - loss: 336.7090 - mae: 14.7736 - val_loss: 358.3225 - val_mae: 15.2436\n",
      "Epoch 22/50\n",
      "24/24 [==============================] - 0s 2ms/step - loss: 321.1441 - mae: 14.3732 - val_loss: 341.7073 - val_mae: 14.8410\n",
      "Epoch 23/50\n",
      "24/24 [==============================] - 0s 2ms/step - loss: 305.7085 - mae: 13.9983 - val_loss: 325.1523 - val_mae: 14.4529\n",
      "Epoch 24/50\n",
      "24/24 [==============================] - 0s 2ms/step - loss: 289.8403 - mae: 13.6037 - val_loss: 309.1685 - val_mae: 14.0549\n",
      "Epoch 25/50\n",
      "24/24 [==============================] - 0s 2ms/step - loss: 274.3581 - mae: 13.2407 - val_loss: 292.4703 - val_mae: 13.6578\n",
      "Epoch 26/50\n",
      "24/24 [==============================] - 0s 2ms/step - loss: 258.3501 - mae: 12.8460 - val_loss: 275.6849 - val_mae: 13.2432\n",
      "Epoch 27/50\n",
      "24/24 [==============================] - 0s 2ms/step - loss: 242.1356 - mae: 12.4205 - val_loss: 258.7987 - val_mae: 12.8007\n",
      "Epoch 28/50\n",
      "24/24 [==============================] - 0s 2ms/step - loss: 225.8173 - mae: 11.9902 - val_loss: 241.3229 - val_mae: 12.3354\n",
      "Epoch 29/50\n",
      "24/24 [==============================] - 0s 2ms/step - loss: 209.0026 - mae: 11.5004 - val_loss: 224.0471 - val_mae: 11.8283\n",
      "Epoch 30/50\n",
      "24/24 [==============================] - 0s 2ms/step - loss: 192.3418 - mae: 11.0347 - val_loss: 206.0670 - val_mae: 11.2935\n",
      "Epoch 31/50\n",
      "24/24 [==============================] - 0s 2ms/step - loss: 175.2774 - mae: 10.4600 - val_loss: 188.3902 - val_mae: 10.7037\n",
      "Epoch 32/50\n",
      "24/24 [==============================] - 0s 2ms/step - loss: 158.5327 - mae: 9.8802 - val_loss: 171.2335 - val_mae: 10.0670\n",
      "Epoch 33/50\n",
      "24/24 [==============================] - 0s 2ms/step - loss: 142.4859 - mae: 9.2669 - val_loss: 155.0614 - val_mae: 9.4540\n",
      "Epoch 34/50\n",
      "24/24 [==============================] - 0s 2ms/step - loss: 127.7373 - mae: 8.6709 - val_loss: 139.2460 - val_mae: 8.8673\n",
      "Epoch 35/50\n",
      "24/24 [==============================] - 0s 2ms/step - loss: 114.1240 - mae: 8.0733 - val_loss: 126.0918 - val_mae: 8.2729\n",
      "Epoch 36/50\n",
      "24/24 [==============================] - 0s 2ms/step - loss: 102.7162 - mae: 7.5330 - val_loss: 115.3424 - val_mae: 7.7661\n",
      "Epoch 37/50\n",
      "24/24 [==============================] - 0s 2ms/step - loss: 93.7712 - mae: 7.1086 - val_loss: 105.4802 - val_mae: 7.4092\n",
      "Epoch 38/50\n",
      "24/24 [==============================] - 0s 2ms/step - loss: 86.0172 - mae: 6.6949 - val_loss: 99.0594 - val_mae: 7.0755\n",
      "Epoch 39/50\n",
      "24/24 [==============================] - 0s 2ms/step - loss: 80.7511 - mae: 6.4145 - val_loss: 94.6939 - val_mae: 6.8576\n",
      "Epoch 40/50\n",
      "24/24 [==============================] - 0s 2ms/step - loss: 77.4107 - mae: 6.2796 - val_loss: 90.5670 - val_mae: 6.7698\n",
      "Epoch 41/50\n",
      "24/24 [==============================] - 0s 2ms/step - loss: 74.4902 - mae: 6.1444 - val_loss: 88.5712 - val_mae: 6.6538\n",
      "Epoch 42/50\n",
      "24/24 [==============================] - 0s 2ms/step - loss: 72.6583 - mae: 6.1256 - val_loss: 86.4173 - val_mae: 6.6443\n",
      "Epoch 43/50\n",
      "24/24 [==============================] - 0s 2ms/step - loss: 71.2350 - mae: 6.0733 - val_loss: 85.3004 - val_mae: 6.5857\n",
      "Epoch 44/50\n",
      "24/24 [==============================] - 0s 2ms/step - loss: 70.2224 - mae: 6.0450 - val_loss: 84.1113 - val_mae: 6.5887\n",
      "Epoch 45/50\n",
      "24/24 [==============================] - 0s 2ms/step - loss: 69.2785 - mae: 6.0452 - val_loss: 83.3396 - val_mae: 6.5502\n",
      "Epoch 46/50\n",
      "24/24 [==============================] - 0s 2ms/step - loss: 68.7215 - mae: 5.9931 - val_loss: 82.7906 - val_mae: 6.4984\n",
      "Epoch 47/50\n",
      "24/24 [==============================] - 0s 2ms/step - loss: 67.9129 - mae: 6.0118 - val_loss: 81.7880 - val_mae: 6.5334\n",
      "Epoch 48/50\n",
      "24/24 [==============================] - 0s 2ms/step - loss: 67.0906 - mae: 5.9959 - val_loss: 81.4963 - val_mae: 6.4596\n",
      "Epoch 49/50\n",
      "24/24 [==============================] - 0s 2ms/step - loss: 66.4952 - mae: 5.9544 - val_loss: 81.1511 - val_mae: 6.4186\n",
      "Epoch 50/50\n",
      "24/24 [==============================] - 0s 2ms/step - loss: 66.0424 - mae: 5.9642 - val_loss: 80.2451 - val_mae: 6.4522\n"
     ]
    }
   ],
   "source": [
    "net.compile('adam','mse', ['mae'])\n",
    "hist = net.fit(X_train, y_train, batch_size=16, epochs=50, validation_data=(X_test, y_test))"
   ]
  },
  {
   "cell_type": "code",
   "execution_count": null,
   "metadata": {},
   "outputs": [
    {
     "name": "stdout",
     "output_type": "stream",
     "text": [
      "4/4 [==============================] - 0s 1ms/step - loss: 32.4376 - mae: 4.0528\n"
     ]
    },
    {
     "data": {
      "text/plain": [
       "[32.43758773803711, 4.052781105041504]"
      ]
     },
     "execution_count": 151,
     "metadata": {},
     "output_type": "execute_result"
    }
   ],
   "source": [
    "net.evaluate(X_test, y_test)"
   ]
  },
  {
   "cell_type": "code",
   "execution_count": null,
   "metadata": {},
   "outputs": [
    {
     "data": {
      "text/plain": [
       "array([151.,  75., 141., 206., 135.,  97., 138.,  63., 110., 310., 101.,\n",
       "        69., 179., 185., 118., 171., 166., 144.,  97., 168.,  68.,  49.,\n",
       "        68., 245., 184., 202., 137.,  85., 131., 283., 129.,  59., 341.,\n",
       "        87.,  65., 102., 265., 276., 252.,  90., 100.,  55.,  61.,  92.,\n",
       "       259.,  53., 190., 142.,  75., 142., 155., 225.,  59., 104., 182.,\n",
       "       128.,  52.,  37., 170., 170.,  61., 144.,  52., 128.,  71., 163.,\n",
       "       150.,  97., 160., 178.,  48., 270., 202., 111.,  85.,  42., 170.,\n",
       "       200., 252., 113., 143.,  51.,  52., 210.,  65., 141.,  55., 134.,\n",
       "        42., 111.,  98., 164.,  48.,  96.,  90., 162., 150., 279.,  92.,\n",
       "        83., 128., 102., 302., 198.,  95.,  53., 134., 144., 232.,  81.,\n",
       "       104.,  59., 246., 297., 258., 229., 275., 281., 179., 200., 200.,\n",
       "       173., 180.,  84., 121., 161.,  99., 109., 115., 268., 274., 158.,\n",
       "       107.,  83., 103., 272.,  85., 280., 336., 281., 118., 317., 235.,\n",
       "        60., 174., 259., 178., 128.,  96., 126., 288.,  88., 292.,  71.,\n",
       "       197., 186.,  25.,  84.,  96., 195.,  53., 217., 172., 131., 214.,\n",
       "        59.,  70., 220., 268., 152.,  47.,  74., 295., 101., 151., 127.,\n",
       "       237., 225.,  81., 151., 107.,  64., 138., 185., 265., 101., 137.,\n",
       "       143., 141.,  79., 292., 178.,  91., 116.,  86., 122.,  72., 129.,\n",
       "       142.,  90., 158.,  39., 196., 222., 277.,  99., 196., 202., 155.,\n",
       "        77., 191.,  70.,  73.,  49.,  65., 263., 248., 296., 214., 185.,\n",
       "        78.,  93., 252., 150.,  77., 208.,  77., 108., 160.,  53., 220.,\n",
       "       154., 259.,  90., 246., 124.,  67.,  72., 257., 262., 275., 177.,\n",
       "        71.,  47., 187., 125.,  78.,  51., 258., 215., 303., 243.,  91.,\n",
       "       150., 310., 153., 346.,  63.,  89.,  50.,  39., 103., 308., 116.,\n",
       "       145.,  74.,  45., 115., 264.,  87., 202., 127., 182., 241.,  66.,\n",
       "        94., 283.,  64., 102., 200., 265.,  94., 230., 181., 156., 233.,\n",
       "        60., 219.,  80.,  68., 332., 248.,  84., 200.,  55.,  85.,  89.,\n",
       "        31., 129.,  83., 275.,  65., 198., 236., 253., 124.,  44., 172.,\n",
       "       114., 142., 109., 180., 144., 163., 147.,  97., 220., 190., 109.,\n",
       "       191., 122., 230., 242., 248., 249., 192., 131., 237.,  78., 135.,\n",
       "       244., 199., 270., 164.,  72.,  96., 306.,  91., 214.,  95., 216.,\n",
       "       263., 178., 113., 200., 139., 139.,  88., 148.,  88., 243.,  71.,\n",
       "        77., 109., 272.,  60.,  54., 221.,  90., 311., 281., 182., 321.,\n",
       "        58., 262., 206., 233., 242., 123., 167.,  63., 197.,  71., 168.,\n",
       "       140., 217., 121., 235., 245.,  40.,  52., 104., 132.,  88.,  69.,\n",
       "       219.,  72., 201., 110.,  51., 277.,  63., 118.,  69., 273., 258.,\n",
       "        43., 198., 242., 232., 175.,  93., 168., 275., 293., 281.,  72.,\n",
       "       140., 189., 181., 209., 136., 261., 113., 131., 174., 257.,  55.,\n",
       "        84.,  42., 146., 212., 233.,  91., 111., 152., 120.,  67., 310.,\n",
       "        94., 183.,  66., 173.,  72.,  49.,  64.,  48., 178., 104., 132.,\n",
       "       220.,  57.])"
      ]
     },
     "execution_count": 154,
     "metadata": {},
     "output_type": "execute_result"
    }
   ],
   "source": [
    "from sklearn.datasets import load_diabetes\n",
    "data = load_diabetes()\n",
    "data.target"
   ]
  },
  {
   "cell_type": "code",
   "execution_count": null,
   "metadata": {},
   "outputs": [],
   "source": [
    "from sklearn.model_selection import train_test_split\n",
    "X_train, X_test, y_train, y_test = train_test_split(\n",
    "    data.data, data.target\n",
    ")"
   ]
  },
  {
   "cell_type": "code",
   "execution_count": null,
   "metadata": {},
   "outputs": [
    {
     "data": {
      "text/plain": [
       "(331, 10)"
      ]
     },
     "execution_count": 156,
     "metadata": {},
     "output_type": "execute_result"
    }
   ],
   "source": [
    "X_train.shape[1]"
   ]
  },
  {
   "cell_type": "code",
   "execution_count": null,
   "metadata": {},
   "outputs": [],
   "source": [
    "from tensorflow.keras import Sequential\n",
    "model = Sequential()\n",
    "model.add(tensorflow.keras.layers.Dense(6, activation='relu',input_dim=X_train.shape[1]))"
   ]
  },
  {
   "cell_type": "code",
   "execution_count": null,
   "metadata": {},
   "outputs": [],
   "source": [
    "model.add(tensorflow.keras.layers.Dense(3, activation='linear'))"
   ]
  },
  {
   "cell_type": "code",
   "execution_count": null,
   "metadata": {},
   "outputs": [
    {
     "name": "stdout",
     "output_type": "stream",
     "text": [
      "Model: \"sequential_15\"\n",
      "_________________________________________________________________\n",
      " Layer (type)                Output Shape              Param #   \n",
      "=================================================================\n",
      " dense_17 (Dense)            (None, 6)                 66        \n",
      "                                                                 \n",
      " dense_18 (Dense)            (None, 3)                 21        \n",
      "                                                                 \n",
      "=================================================================\n",
      "Total params: 87\n",
      "Trainable params: 87\n",
      "Non-trainable params: 0\n",
      "_________________________________________________________________\n"
     ]
    }
   ],
   "source": [
    "model.summary()"
   ]
  },
  {
   "cell_type": "code",
   "execution_count": null,
   "metadata": {},
   "outputs": [
    {
     "name": "stdout",
     "output_type": "stream",
     "text": [
      "Epoch 1/50\n",
      "28/28 [==============================] - 0s 5ms/step - loss: 30167.3691 - mae: 154.7919 - val_loss: 25784.9277 - val_mae: 144.0981\n",
      "Epoch 2/50\n",
      "28/28 [==============================] - 0s 2ms/step - loss: 30150.2656 - mae: 154.7375 - val_loss: 25768.2969 - val_mae: 144.0408\n",
      "Epoch 3/50\n",
      "28/28 [==============================] - 0s 2ms/step - loss: 30130.6172 - mae: 154.6746 - val_loss: 25748.0059 - val_mae: 143.9712\n",
      "Epoch 4/50\n",
      "28/28 [==============================] - 0s 2ms/step - loss: 30106.7344 - mae: 154.5997 - val_loss: 25723.9004 - val_mae: 143.8889\n",
      "Epoch 5/50\n",
      "28/28 [==============================] - 0s 2ms/step - loss: 30079.2988 - mae: 154.5122 - val_loss: 25696.2383 - val_mae: 143.7945\n",
      "Epoch 6/50\n",
      "28/28 [==============================] - 0s 2ms/step - loss: 30047.9570 - mae: 154.4131 - val_loss: 25665.0039 - val_mae: 143.6880\n",
      "Epoch 7/50\n",
      "28/28 [==============================] - 0s 2ms/step - loss: 30012.5195 - mae: 154.3034 - val_loss: 25631.1289 - val_mae: 143.5725\n",
      "Epoch 8/50\n",
      "28/28 [==============================] - 0s 2ms/step - loss: 29974.2754 - mae: 154.1809 - val_loss: 25592.5977 - val_mae: 143.4417\n",
      "Epoch 9/50\n",
      "28/28 [==============================] - 0s 2ms/step - loss: 29931.5234 - mae: 154.0480 - val_loss: 25551.8926 - val_mae: 143.3029\n",
      "Epoch 10/50\n",
      "28/28 [==============================] - 0s 2ms/step - loss: 29885.9160 - mae: 153.9050 - val_loss: 25507.4590 - val_mae: 143.1515\n",
      "Epoch 11/50\n",
      "28/28 [==============================] - 0s 2ms/step - loss: 29836.2812 - mae: 153.7489 - val_loss: 25459.6953 - val_mae: 142.9889\n",
      "Epoch 12/50\n",
      "28/28 [==============================] - 0s 2ms/step - loss: 29783.3379 - mae: 153.5811 - val_loss: 25408.3066 - val_mae: 142.8138\n",
      "Epoch 13/50\n",
      "28/28 [==============================] - 0s 2ms/step - loss: 29726.7012 - mae: 153.4021 - val_loss: 25353.5703 - val_mae: 142.6272\n",
      "Epoch 14/50\n",
      "28/28 [==============================] - 0s 2ms/step - loss: 29666.3691 - mae: 153.2111 - val_loss: 25295.5098 - val_mae: 142.4287\n",
      "Epoch 15/50\n",
      "28/28 [==============================] - 0s 2ms/step - loss: 29602.2988 - mae: 153.0133 - val_loss: 25235.8203 - val_mae: 142.2247\n",
      "Epoch 16/50\n",
      "28/28 [==============================] - 0s 2ms/step - loss: 29535.7285 - mae: 152.8028 - val_loss: 25171.0352 - val_mae: 142.0035\n",
      "Epoch 17/50\n",
      "28/28 [==============================] - 0s 2ms/step - loss: 29464.8730 - mae: 152.5781 - val_loss: 25103.2441 - val_mae: 141.7713\n",
      "Epoch 18/50\n",
      "28/28 [==============================] - 0s 2ms/step - loss: 29391.1113 - mae: 152.3434 - val_loss: 25032.8828 - val_mae: 141.5298\n",
      "Epoch 19/50\n",
      "28/28 [==============================] - 0s 2ms/step - loss: 29313.5703 - mae: 152.1004 - val_loss: 24959.8535 - val_mae: 141.2791\n",
      "Epoch 20/50\n",
      "28/28 [==============================] - 0s 2ms/step - loss: 29233.5176 - mae: 151.8434 - val_loss: 24882.2676 - val_mae: 141.0125\n",
      "Epoch 21/50\n",
      "28/28 [==============================] - 0s 2ms/step - loss: 29149.7012 - mae: 151.5771 - val_loss: 24802.7988 - val_mae: 140.7388\n",
      "Epoch 22/50\n",
      "28/28 [==============================] - 0s 2ms/step - loss: 29062.9121 - mae: 151.3014 - val_loss: 24721.0918 - val_mae: 140.4563\n",
      "Epoch 23/50\n",
      "28/28 [==============================] - 0s 2ms/step - loss: 28973.3750 - mae: 151.0158 - val_loss: 24635.2852 - val_mae: 140.1602\n",
      "Epoch 24/50\n",
      "28/28 [==============================] - 0s 2ms/step - loss: 28879.7773 - mae: 150.7201 - val_loss: 24548.4141 - val_mae: 139.8590\n",
      "Epoch 25/50\n",
      "28/28 [==============================] - 0s 2ms/step - loss: 28784.2305 - mae: 150.4170 - val_loss: 24458.4766 - val_mae: 139.5469\n",
      "Epoch 26/50\n",
      "28/28 [==============================] - 0s 2ms/step - loss: 28686.0488 - mae: 150.0976 - val_loss: 24363.8516 - val_mae: 139.2178\n",
      "Epoch 27/50\n",
      "28/28 [==============================] - 0s 2ms/step - loss: 28584.5684 - mae: 149.7722 - val_loss: 24268.5781 - val_mae: 138.8860\n",
      "Epoch 28/50\n",
      "28/28 [==============================] - 0s 2ms/step - loss: 28480.6367 - mae: 149.4389 - val_loss: 24170.7305 - val_mae: 138.5438\n",
      "Epoch 29/50\n",
      "28/28 [==============================] - 0s 2ms/step - loss: 28373.3438 - mae: 149.0976 - val_loss: 24071.0410 - val_mae: 138.1944\n",
      "Epoch 30/50\n",
      "28/28 [==============================] - 0s 2ms/step - loss: 28264.4043 - mae: 148.7405 - val_loss: 23966.2461 - val_mae: 137.8268\n",
      "Epoch 31/50\n",
      "28/28 [==============================] - 0s 2ms/step - loss: 28151.1562 - mae: 148.3800 - val_loss: 23861.8223 - val_mae: 137.4598\n",
      "Epoch 32/50\n",
      "28/28 [==============================] - 0s 2ms/step - loss: 28036.5469 - mae: 148.0064 - val_loss: 23752.7031 - val_mae: 137.0747\n",
      "Epoch 33/50\n",
      "28/28 [==============================] - 0s 2ms/step - loss: 27918.3145 - mae: 147.6226 - val_loss: 23642.9648 - val_mae: 136.6863\n",
      "Epoch 34/50\n",
      "28/28 [==============================] - 0s 2ms/step - loss: 27799.5039 - mae: 147.2331 - val_loss: 23528.9121 - val_mae: 136.2824\n",
      "Epoch 35/50\n",
      "28/28 [==============================] - 0s 2ms/step - loss: 27676.2363 - mae: 146.8332 - val_loss: 23415.2734 - val_mae: 135.8780\n",
      "Epoch 36/50\n",
      "28/28 [==============================] - 0s 2ms/step - loss: 27550.9238 - mae: 146.4289 - val_loss: 23299.2969 - val_mae: 135.4641\n",
      "Epoch 37/50\n",
      "28/28 [==============================] - 0s 2ms/step - loss: 27425.1426 - mae: 146.0061 - val_loss: 23178.2676 - val_mae: 135.0314\n",
      "Epoch 38/50\n",
      "28/28 [==============================] - 0s 2ms/step - loss: 27294.4980 - mae: 145.5826 - val_loss: 23058.1367 - val_mae: 134.6003\n",
      "Epoch 39/50\n",
      "28/28 [==============================] - ETA: 0s - loss: 34547.8711 - mae: 164.118 - 0s 2ms/step - loss: 27163.3047 - mae: 145.1466 - val_loss: 22934.6602 - val_mae: 134.1558\n",
      "Epoch 40/50\n",
      "28/28 [==============================] - 0s 2ms/step - loss: 27029.6914 - mae: 144.7058 - val_loss: 22809.2383 - val_mae: 133.7029\n",
      "Epoch 41/50\n",
      "28/28 [==============================] - 0s 2ms/step - loss: 26893.3379 - mae: 144.2556 - val_loss: 22682.6660 - val_mae: 133.2451\n",
      "Epoch 42/50\n",
      "28/28 [==============================] - 0s 2ms/step - loss: 26755.5977 - mae: 143.7979 - val_loss: 22554.6855 - val_mae: 132.7798\n",
      "Epoch 43/50\n",
      "28/28 [==============================] - 0s 2ms/step - loss: 26616.1113 - mae: 143.3303 - val_loss: 22423.9668 - val_mae: 132.3027\n",
      "Epoch 44/50\n",
      "28/28 [==============================] - 0s 2ms/step - loss: 26473.9570 - mae: 142.8539 - val_loss: 22290.6680 - val_mae: 131.8157\n",
      "Epoch 45/50\n",
      "28/28 [==============================] - 0s 2ms/step - loss: 26330.3711 - mae: 142.3713 - val_loss: 22156.5410 - val_mae: 131.3237\n",
      "Epoch 46/50\n",
      "28/28 [==============================] - 0s 2ms/step - loss: 26184.6758 - mae: 141.8800 - val_loss: 22021.8828 - val_mae: 130.8269\n",
      "Epoch 47/50\n",
      "28/28 [==============================] - 0s 2ms/step - loss: 26038.0488 - mae: 141.3868 - val_loss: 21885.3281 - val_mae: 130.3216\n",
      "Epoch 48/50\n",
      "28/28 [==============================] - 0s 2ms/step - loss: 25890.2422 - mae: 140.8827 - val_loss: 21747.3242 - val_mae: 129.8089\n",
      "Epoch 49/50\n",
      "28/28 [==============================] - 0s 2ms/step - loss: 25740.5703 - mae: 140.3686 - val_loss: 21607.4219 - val_mae: 129.2877\n",
      "Epoch 50/50\n",
      "28/28 [==============================] - 0s 2ms/step - loss: 25588.8555 - mae: 139.8524 - val_loss: 21466.7207 - val_mae: 128.7618\n"
     ]
    },
    {
     "data": {
      "text/plain": [
       "<keras.callbacks.History at 0x264239f55b0>"
      ]
     },
     "execution_count": 162,
     "metadata": {},
     "output_type": "execute_result"
    }
   ],
   "source": [
    "model.compile('adam', 'mse', ['mae'])\n",
    "model.fit(X_train, y_train, epochs=50, batch_size=12, validation_data=(X_test, y_test))\n"
   ]
  },
  {
   "cell_type": "code",
   "execution_count": null,
   "metadata": {},
   "outputs": [],
   "source": []
  },
  {
   "cell_type": "code",
   "execution_count": null,
   "metadata": {},
   "outputs": [],
   "source": []
  },
  {
   "cell_type": "code",
   "execution_count": null,
   "metadata": {},
   "outputs": [],
   "source": []
  },
  {
   "cell_type": "code",
   "execution_count": null,
   "metadata": {},
   "outputs": [],
   "source": []
  },
  {
   "cell_type": "code",
   "execution_count": null,
   "metadata": {},
   "outputs": [],
   "source": []
  },
  {
   "cell_type": "code",
   "execution_count": null,
   "metadata": {},
   "outputs": [],
   "source": []
  },
  {
   "cell_type": "code",
   "execution_count": null,
   "metadata": {},
   "outputs": [],
   "source": []
  },
  {
   "cell_type": "code",
   "execution_count": null,
   "metadata": {},
   "outputs": [],
   "source": []
  },
  {
   "cell_type": "code",
   "execution_count": null,
   "metadata": {},
   "outputs": [],
   "source": []
  },
  {
   "cell_type": "code",
   "execution_count": null,
   "metadata": {},
   "outputs": [],
   "source": []
  },
  {
   "cell_type": "code",
   "execution_count": null,
   "metadata": {},
   "outputs": [],
   "source": []
  },
  {
   "cell_type": "code",
   "execution_count": null,
   "metadata": {},
   "outputs": [],
   "source": []
  },
  {
   "cell_type": "code",
   "execution_count": null,
   "metadata": {},
   "outputs": [],
   "source": []
  },
  {
   "cell_type": "code",
   "execution_count": null,
   "metadata": {},
   "outputs": [],
   "source": []
  },
  {
   "cell_type": "code",
   "execution_count": null,
   "metadata": {},
   "outputs": [],
   "source": []
  },
  {
   "cell_type": "code",
   "execution_count": null,
   "metadata": {},
   "outputs": [],
   "source": []
  },
  {
   "cell_type": "code",
   "execution_count": null,
   "metadata": {},
   "outputs": [],
   "source": []
  },
  {
   "cell_type": "code",
   "execution_count": null,
   "metadata": {},
   "outputs": [],
   "source": []
  },
  {
   "cell_type": "code",
   "execution_count": null,
   "metadata": {},
   "outputs": [],
   "source": []
  },
  {
   "cell_type": "code",
   "execution_count": null,
   "metadata": {},
   "outputs": [],
   "source": []
  },
  {
   "cell_type": "code",
   "execution_count": null,
   "metadata": {},
   "outputs": [],
   "source": []
  },
  {
   "cell_type": "code",
   "execution_count": null,
   "metadata": {},
   "outputs": [],
   "source": []
  },
  {
   "cell_type": "code",
   "execution_count": null,
   "metadata": {},
   "outputs": [],
   "source": []
  },
  {
   "cell_type": "code",
   "execution_count": null,
   "metadata": {},
   "outputs": [],
   "source": []
  }
 ],
 "metadata": {
  "language_info": {
   "name": "python"
  },
  "orig_nbformat": 4
 },
 "nbformat": 4,
 "nbformat_minor": 2
}
