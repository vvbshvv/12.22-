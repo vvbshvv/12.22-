{
 "cells": [
  {
   "cell_type": "code",
   "execution_count": 98,
   "metadata": {},
   "outputs": [
    {
     "data": {
      "text/plain": [
       "'2.7.0'"
      ]
     },
     "execution_count": 98,
     "metadata": {},
     "output_type": "execute_result"
    }
   ],
   "source": [
    "from tensorflow import keras\n",
    "keras.__version__"
   ]
  },
  {
   "cell_type": "code",
   "execution_count": 99,
   "metadata": {},
   "outputs": [],
   "source": [
    "from tensorflow.keras.datasets import mnist\n",
    "\n",
    "(train_images, train_labels), (test_images, test_labels) = mnist.load_data()"
   ]
  },
  {
   "cell_type": "code",
   "execution_count": 100,
   "metadata": {},
   "outputs": [
    {
     "data": {
      "text/plain": [
       "((60000, 28, 28), (10000, 28, 28))"
      ]
     },
     "execution_count": 100,
     "metadata": {},
     "output_type": "execute_result"
    }
   ],
   "source": [
    "train_images.shape, test_images.shape"
   ]
  },
  {
   "cell_type": "code",
   "execution_count": 101,
   "metadata": {},
   "outputs": [
    {
     "data": {
      "image/png": "[encoded data removed]",
      "text/plain": [
       "<Figure size 432x288 with 1 Axes>"
      ]
     },
     "metadata": {
      "needs_background": "light"
     },
     "output_type": "display_data"
    }
   ],
   "source": [
    "import matplotlib.pyplot as plt\n",
    "digit = train_images[4]\n",
    "\n",
    "plt.imshow(digit, cmap=plt.cm.binary)\n",
    "plt.show()"
   ]
  },
  {
   "cell_type": "code",
   "execution_count": 102,
   "metadata": {},
   "outputs": [
    {
     "data": {
      "text/plain": [
       "(60000, 28, 28)"
      ]
     },
     "execution_count": 102,
     "metadata": {},
     "output_type": "execute_result"
    }
   ],
   "source": [
    "train_images.shape"
   ]
  },
  {
   "cell_type": "code",
   "execution_count": 103,
   "metadata": {},
   "outputs": [
    {
     "data": {
      "text/plain": [
       "9"
      ]
     },
     "execution_count": 103,
     "metadata": {},
     "output_type": "execute_result"
    }
   ],
   "source": [
    "train_labels[4]"
   ]
  },
  {
   "cell_type": "code",
   "execution_count": 104,
   "metadata": {},
   "outputs": [],
   "source": [
    "from tensorflow.keras import models\n",
    "from tensorflow.keras import layers\n",
    "\n",
    "network = models.Sequential()\n",
    "network.add(layers.Dense(512, activation='relu', input_shape=(28*28,)))\n",
    "network.add(layers.Dense(10, activation='softmax')) #분류모델은 'sigmoid' 멀티클래스 'softmax' #회귀모델인 경우 'linear'"
   ]
  },
  {
   "cell_type": "code",
   "execution_count": 105,
   "metadata": {},
   "outputs": [],
   "source": [
    "# 모델 형성시 필요한 조건\n",
    "# 1. 가운데 정보가 가장 많아야 한다(사진같이)\n",
    "# 2. 이미지는 공간적으로  픽셀같에 커릴레이션?(연관성?) 정보를 유지할 수 있어야한다.\n",
    "# 3. 각각의 채널의 방향은 독립이다.\n",
    "# 4. 이미지는 이미지자체의 배열정보도 같이 저장해야한다.\n",
    "# 5. 딥러닝 모델은 모든 layer를 학습할 필요 없다 개개소 layer만 재학습돌려도 잘 작동"
   ]
  },
  {
   "cell_type": "code",
   "execution_count": 106,
   "metadata": {},
   "outputs": [
    {
     "data": {
      "text/plain": [
       "401920"
      ]
     },
     "execution_count": 106,
     "metadata": {},
     "output_type": "execute_result"
    }
   ],
   "source": [
    "785*512"
   ]
  },
  {
   "cell_type": "code",
   "execution_count": 107,
   "metadata": {},
   "outputs": [
    {
     "name": "stdout",
     "output_type": "stream",
     "text": [
      "Model: \"sequential_10\"\n",
      "_________________________________________________________________\n",
      " Layer (type)                Output Shape              Param #   \n",
      "=================================================================\n",
      " dense_8 (Dense)             (None, 512)               401920    \n",
      "                                                                 \n",
      " dense_9 (Dense)             (None, 10)                5130      \n",
      "                                                                 \n",
      "=================================================================\n",
      "Total params: 407,050\n",
      "Trainable params: 407,050\n",
      "Non-trainable params: 0\n",
      "_________________________________________________________________\n"
     ]
    }
   ],
   "source": [
    "network.summary() # 모든 학습파라메타 407050, 학습가능 407050 학습 불가능 0"
   ]
  },
  {
   "cell_type": "code",
   "execution_count": 108,
   "metadata": {},
   "outputs": [
    {
     "data": {
      "text/plain": [
       "(TensorShape([784, 512]), TensorShape([512]))"
      ]
     },
     "execution_count": 108,
     "metadata": {},
     "output_type": "execute_result"
    }
   ],
   "source": [
    "ly0=network.layers[0]\n",
    "ly0.weights\n",
    "w1 = ly0.weights[0]\n",
    "b1 = ly0.weights[1]\n",
    "\n",
    "w1.shape, b1.shape #입력사이즈 512, 출력사이즈 10"
   ]
  },
  {
   "cell_type": "code",
   "execution_count": 109,
   "metadata": {},
   "outputs": [],
   "source": [
    "network.compile(optimizer='rmsprop', loss='categorical_crossentropy',metrics=['accuracy'])"
   ]
  },
  {
   "cell_type": "code",
   "execution_count": 110,
   "metadata": {},
   "outputs": [],
   "source": [
    "train_images = train_images.reshape((60000, 28*28))\n",
    "train_images = train_images.astype('float32') / 255\n",
    "\n",
    "test_images = test_images.reshape((10000, 28*28))\n",
    "test_images = test_images.astype('float32') / 255"
   ]
  },
  {
   "cell_type": "code",
   "execution_count": 111,
   "metadata": {},
   "outputs": [],
   "source": [
    "from tensorflow.keras.utils import to_categorical\n",
    "train_labels = to_categorical(train_labels)\n",
    "test_labels = to_categorical(test_labels)"
   ]
  },
  {
   "cell_type": "code",
   "execution_count": 112,
   "metadata": {},
   "outputs": [
    {
     "data": {
      "text/plain": [
       "(60000, 10)"
      ]
     },
     "execution_count": 112,
     "metadata": {},
     "output_type": "execute_result"
    }
   ],
   "source": [
    "train_labels.shape"
   ]
  },
  {
   "cell_type": "code",
   "execution_count": 113,
   "metadata": {},
   "outputs": [
    {
     "name": "stdout",
     "output_type": "stream",
     "text": [
      "Epoch 1/5\n",
      "469/469 [==============================] - 2s 4ms/step - loss: 0.2549 - accuracy: 0.9261\n",
      "Epoch 2/5\n",
      "469/469 [==============================] - 2s 4ms/step - loss: 0.1023 - accuracy: 0.9700\n",
      "Epoch 3/5\n",
      "469/469 [==============================] - 2s 4ms/step - loss: 0.0680 - accuracy: 0.9800\n",
      "Epoch 4/5\n",
      "469/469 [==============================] - 2s 4ms/step - loss: 0.0488 - accuracy: 0.9856\n",
      "Epoch 5/5\n",
      "469/469 [==============================] - 2s 4ms/step - loss: 0.0368 - accuracy: 0.9887\n"
     ]
    }
   ],
   "source": [
    "hist = network.fit(train_images, train_labels, epochs=5, batch_size=128)"
   ]
  },
  {
   "cell_type": "code",
   "execution_count": 114,
   "metadata": {},
   "outputs": [
    {
     "name": "stdout",
     "output_type": "stream",
     "text": [
      "313/313 [==============================] - 1s 1ms/step - loss: 0.0766 - accuracy: 0.9755\n"
     ]
    }
   ],
   "source": [
    "test_loss, test_acc = network.evaluate(test_images, test_labels)"
   ]
  },
  {
   "cell_type": "code",
   "execution_count": 115,
   "metadata": {},
   "outputs": [
    {
     "name": "stdout",
     "output_type": "stream",
     "text": [
      "test_acc: 0.9754999876022339\n"
     ]
    }
   ],
   "source": [
    "print('test_acc:', test_acc)"
   ]
  },
  {
   "cell_type": "code",
   "execution_count": 116,
   "metadata": {},
   "outputs": [],
   "source": [
    "from sklearn.datasets import load_iris\n",
    "iris = load_iris()\n",
    "X=iris.data\n",
    "y=iris.target"
   ]
  },
  {
   "cell_type": "code",
   "execution_count": 117,
   "metadata": {},
   "outputs": [
    {
     "data": {
      "text/plain": [
       "array([0, 0, 0, 0, 0, 0, 0, 0, 0, 0, 0, 0, 0, 0, 0, 0, 0, 0, 0, 0, 0, 0,\n",
       "       0, 0, 0, 0, 0, 0, 0, 0, 0, 0, 0, 0, 0, 0, 0, 0, 0, 0, 0, 0, 0, 0,\n",
       "       0, 0, 0, 0, 0, 0, 1, 1, 1, 1, 1, 1, 1, 1, 1, 1, 1, 1, 1, 1, 1, 1,\n",
       "       1, 1, 1, 1, 1, 1, 1, 1, 1, 1, 1, 1, 1, 1, 1, 1, 1, 1, 1, 1, 1, 1,\n",
       "       1, 1, 1, 1, 1, 1, 1, 1, 1, 1, 1, 1, 2, 2, 2, 2, 2, 2, 2, 2, 2, 2,\n",
       "       2, 2, 2, 2, 2, 2, 2, 2, 2, 2, 2, 2, 2, 2, 2, 2, 2, 2, 2, 2, 2, 2,\n",
       "       2, 2, 2, 2, 2, 2, 2, 2, 2, 2, 2, 2, 2, 2, 2, 2, 2, 2])"
      ]
     },
     "execution_count": 117,
     "metadata": {},
     "output_type": "execute_result"
    }
   ],
   "source": [
    "y"
   ]
  },
  {
   "cell_type": "code",
   "execution_count": 118,
   "metadata": {},
   "outputs": [],
   "source": [
    "from sklearn.model_selection import train_test_split\n",
    "X_train, X_test, y_train, y_test = train_test_split(X,y,stratify=y, \n",
    "random_state=2022, test_size=0.3)"
   ]
  },
  {
   "cell_type": "code",
   "execution_count": 119,
   "metadata": {},
   "outputs": [
    {
     "data": {
      "text/plain": [
       "(105, 4)"
      ]
     },
     "execution_count": 119,
     "metadata": {},
     "output_type": "execute_result"
    }
   ],
   "source": [
    "X_train.shape"
   ]
  },
  {
   "cell_type": "code",
   "execution_count": 120,
   "metadata": {},
   "outputs": [],
   "source": [
    "import tensorflow as tf\n",
    "from tensorflow.keras import models\n",
    "model = models.Sequential()\n",
    "model.add(tf.keras.layers.Dense(units=6, input_dim = X_train.shape[1], \n",
    "activation='tanh'))\n"
   ]
  },
  {
   "cell_type": "code",
   "execution_count": 121,
   "metadata": {},
   "outputs": [],
   "source": [
    "model.add(tf.keras.layers.Dense(units=3, activation='softmax'))"
   ]
  },
  {
   "cell_type": "code",
   "execution_count": 122,
   "metadata": {},
   "outputs": [
    {
     "name": "stdout",
     "output_type": "stream",
     "text": [
      "Model: \"sequential_11\"\n",
      "_________________________________________________________________\n",
      " Layer (type)                Output Shape              Param #   \n",
      "=================================================================\n",
      " dense_10 (Dense)            (None, 6)                 30        \n",
      "                                                                 \n",
      " dense_11 (Dense)            (None, 3)                 21        \n",
      "                                                                 \n",
      "=================================================================\n",
      "Total params: 51\n",
      "Trainable params: 51\n",
      "Non-trainable params: 0\n",
      "_________________________________________________________________\n"
     ]
    }
   ],
   "source": [
    "model.summary()"
   ]
  },
  {
   "cell_type": "code",
   "execution_count": 123,
   "metadata": {},
   "outputs": [],
   "source": [
    "optimizer = tf.keras.optimizers.SGD(learning_rate=0.01, momentum=0.9, nesterov=True)\n"
   ]
  },
  {
   "cell_type": "code",
   "execution_count": 124,
   "metadata": {},
   "outputs": [],
   "source": [
    "model.compile(optimizer = optimizer, loss = 'categorical_crossentropy')"
   ]
  },
  {
   "cell_type": "code",
   "execution_count": 125,
   "metadata": {},
   "outputs": [],
   "source": [
    "label_tr = tf.keras.utils.to_categorical(y_train)"
   ]
  },
  {
   "cell_type": "code",
   "execution_count": 131,
   "metadata": {},
   "outputs": [
    {
     "name": "stdout",
     "output_type": "stream",
     "text": [
      "Epoch 1/20\n",
      "7/7 [==============================] - 0s 1ms/step - loss: 0.1014\n",
      "Epoch 2/20\n",
      "7/7 [==============================] - 0s 1ms/step - loss: 0.1031\n",
      "Epoch 3/20\n",
      "7/7 [==============================] - 0s 997us/step - loss: 0.0923\n",
      "Epoch 4/20\n",
      "7/7 [==============================] - 0s 1ms/step - loss: 0.0944\n",
      "Epoch 5/20\n",
      "7/7 [==============================] - 0s 997us/step - loss: 0.1035\n",
      "Epoch 6/20\n",
      "7/7 [==============================] - 0s 1ms/step - loss: 0.0819\n",
      "Epoch 7/20\n",
      "7/7 [==============================] - 0s 1ms/step - loss: 0.1062\n",
      "Epoch 8/20\n",
      "7/7 [==============================] - 0s 997us/step - loss: 0.0905\n",
      "Epoch 9/20\n",
      "7/7 [==============================] - 0s 1ms/step - loss: 0.0825\n",
      "Epoch 10/20\n",
      "7/7 [==============================] - 0s 998us/step - loss: 0.0940\n",
      "Epoch 11/20\n",
      "7/7 [==============================] - 0s 1ms/step - loss: 0.0918\n",
      "Epoch 12/20\n",
      "7/7 [==============================] - 0s 997us/step - loss: 0.0937\n",
      "Epoch 13/20\n",
      "7/7 [==============================] - 0s 1ms/step - loss: 0.0900\n",
      "Epoch 14/20\n",
      "7/7 [==============================] - 0s 997us/step - loss: 0.0870\n",
      "Epoch 15/20\n",
      "7/7 [==============================] - 0s 1ms/step - loss: 0.0879\n",
      "Epoch 16/20\n",
      "7/7 [==============================] - 0s 1ms/step - loss: 0.0810\n",
      "Epoch 17/20\n",
      "7/7 [==============================] - 0s 1ms/step - loss: 0.0763\n",
      "Epoch 18/20\n",
      "7/7 [==============================] - 0s 1ms/step - loss: 0.0766\n",
      "Epoch 19/20\n",
      "7/7 [==============================] - 0s 1ms/step - loss: 0.0896\n",
      "Epoch 20/20\n",
      "7/7 [==============================] - 0s 997us/step - loss: 0.0822\n"
     ]
    }
   ],
   "source": [
    "history = model.fit(X_train, label_tr, batch_size=16, epochs=20)"
   ]
  },
  {
   "cell_type": "code",
   "execution_count": 134,
   "metadata": {},
   "outputs": [
    {
     "name": "stdout",
     "output_type": "stream",
     "text": [
      "2/2 [==============================] - 0s 2ms/step - loss: 0.1489\n"
     ]
    },
    {
     "data": {
      "text/plain": [
       "0.1489148586988449"
      ]
     },
     "execution_count": 134,
     "metadata": {},
     "output_type": "execute_result"
    }
   ],
   "source": [
    "y_test = to_categorical(y_test)\n",
    "model.evaluate(X_test, y_test)\n"
   ]
  },
  {
   "cell_type": "code",
   "execution_count": 135,
   "metadata": {},
   "outputs": [],
   "source": [
    "from sklearn.datasets import load_boston\n",
    "boston = load_boston()\n",
    "from sklearn.model_selection import train_test_split\n",
    "X_train, X_test, y_train, y_test = train_test_split(boston.data, boston.target)"
   ]
  },
  {
   "cell_type": "code",
   "execution_count": 137,
   "metadata": {},
   "outputs": [
    {
     "data": {
      "text/plain": [
       "(379, 13)"
      ]
     },
     "execution_count": 137,
     "metadata": {},
     "output_type": "execute_result"
    }
   ],
   "source": [
    "X_train.shape[1]"
   ]
  },
  {
   "cell_type": "code",
   "execution_count": 141,
   "metadata": {},
   "outputs": [],
   "source": [
    "from tensorflow.keras import Sequential\n",
    "import tensorflow.keras.layers as lp\n",
    "net = Sequential()\n",
    "net.add(tensorflow.keras.layers.Dense(25, activation='relu', input_dim =X_train.shape[1]))"
   ]
  },
  {
   "cell_type": "code",
   "execution_count": 143,
   "metadata": {},
   "outputs": [],
   "source": [
    "net.add(lp.Dense(6, activation='relu'))\n",
    "net.add(lp.Dense(2,activation='linear'))"
   ]
  },
  {
   "cell_type": "code",
   "execution_count": 144,
   "metadata": {},
   "outputs": [
    {
     "name": "stdout",
     "output_type": "stream",
     "text": [
      "Model: \"sequential_14\"\n",
      "_________________________________________________________________\n",
      " Layer (type)                Output Shape              Param #   \n",
      "=================================================================\n",
      " dense_13 (Dense)            (None, 25)                350       \n",
      "                                                                 \n",
      " dense_14 (Dense)            (None, 6)                 156       \n",
      "                                                                 \n",
      " dense_15 (Dense)            (None, 6)                 42        \n",
      "                                                                 \n",
      " dense_16 (Dense)            (None, 2)                 14        \n",
      "                                                                 \n",
      "=================================================================\n",
      "Total params: 562\n",
      "Trainable params: 562\n",
      "Non-trainable params: 0\n",
      "_________________________________________________________________\n"
     ]
    }
   ],
   "source": [
    "net.summary()"
   ]
  },
  {
   "cell_type": "code",
   "execution_count": 145,
   "metadata": {},
   "outputs": [],
   "source": [
    "def mse(y, p):\n",
    "    return np.square(y - p).mean()\n",
    "\n",
    "def mae(y, p):\n",
    "    return np.abs(y - p).mean()"
   ]
  },
  {
   "cell_type": "code",
   "execution_count": 149,
   "metadata": {},
   "outputs": [
    {
     "name": "stdout",
     "output_type": "stream",
     "text": [
      "Epoch 1/50\n",
      "24/24 [==============================] - 0s 5ms/step - loss: 229.6337 - mae: 12.2196 - val_loss: 93.5148 - val_mae: 7.3233\n",
      "Epoch 2/50\n",
      "24/24 [==============================] - 0s 2ms/step - loss: 79.6495 - mae: 6.1504 - val_loss: 68.9785 - val_mae: 6.1194\n",
      "Epoch 3/50\n",
      "24/24 [==============================] - 0s 2ms/step - loss: 66.1867 - mae: 5.9388 - val_loss: 69.7395 - val_mae: 5.7457\n",
      "Epoch 4/50\n",
      "24/24 [==============================] - 0s 2ms/step - loss: 63.2552 - mae: 5.7083 - val_loss: 66.1542 - val_mae: 5.5656\n",
      "Epoch 5/50\n",
      "24/24 [==============================] - 0s 2ms/step - loss: 61.1098 - mae: 5.5195 - val_loss: 63.6074 - val_mae: 5.4319\n",
      "Epoch 6/50\n",
      "24/24 [==============================] - 0s 2ms/step - loss: 58.8296 - mae: 5.4632 - val_loss: 62.8498 - val_mae: 5.3722\n",
      "Epoch 7/50\n",
      "24/24 [==============================] - 0s 2ms/step - loss: 57.4875 - mae: 5.4051 - val_loss: 59.1932 - val_mae: 5.4136\n",
      "Epoch 8/50\n",
      "24/24 [==============================] - 0s 4ms/step - loss: 55.0090 - mae: 5.3210 - val_loss: 59.9374 - val_mae: 5.2490\n",
      "Epoch 9/50\n",
      "24/24 [==============================] - 0s 2ms/step - loss: 54.6943 - mae: 5.2595 - val_loss: 57.6292 - val_mae: 5.3082\n",
      "Epoch 10/50\n",
      "24/24 [==============================] - 0s 2ms/step - loss: 54.3111 - mae: 5.2978 - val_loss: 56.1289 - val_mae: 5.0994\n",
      "Epoch 11/50\n",
      "24/24 [==============================] - 0s 2ms/step - loss: 53.2012 - mae: 5.1248 - val_loss: 58.1987 - val_mae: 5.0581\n",
      "Epoch 12/50\n",
      "24/24 [==============================] - 0s 2ms/step - loss: 50.7544 - mae: 5.0173 - val_loss: 53.2629 - val_mae: 5.1699\n",
      "Epoch 13/50\n",
      "24/24 [==============================] - 0s 2ms/step - loss: 49.8755 - mae: 5.0107 - val_loss: 54.0936 - val_mae: 4.9630\n",
      "Epoch 14/50\n",
      "24/24 [==============================] - 0s 2ms/step - loss: 47.6705 - mae: 4.8259 - val_loss: 51.5104 - val_mae: 4.9110\n",
      "Epoch 15/50\n",
      "24/24 [==============================] - 0s 2ms/step - loss: 46.6519 - mae: 4.8303 - val_loss: 50.3935 - val_mae: 5.0951\n",
      "Epoch 16/50\n",
      "24/24 [==============================] - 0s 2ms/step - loss: 45.2684 - mae: 4.8489 - val_loss: 51.4436 - val_mae: 4.7778\n",
      "Epoch 17/50\n",
      "24/24 [==============================] - 0s 2ms/step - loss: 46.2413 - mae: 4.9513 - val_loss: 59.7370 - val_mae: 5.1745\n",
      "Epoch 18/50\n",
      "24/24 [==============================] - 0s 2ms/step - loss: 45.5418 - mae: 4.7321 - val_loss: 47.3235 - val_mae: 4.7599\n",
      "Epoch 19/50\n",
      "24/24 [==============================] - 0s 2ms/step - loss: 43.0158 - mae: 4.7882 - val_loss: 46.7726 - val_mae: 4.5820\n",
      "Epoch 20/50\n",
      "24/24 [==============================] - 0s 2ms/step - loss: 40.6209 - mae: 4.5780 - val_loss: 45.0702 - val_mae: 4.7853\n",
      "Epoch 21/50\n",
      "24/24 [==============================] - 0s 2ms/step - loss: 39.5632 - mae: 4.5518 - val_loss: 44.0571 - val_mae: 4.4830\n",
      "Epoch 22/50\n",
      "24/24 [==============================] - 0s 2ms/step - loss: 38.7268 - mae: 4.5244 - val_loss: 46.9615 - val_mae: 4.6230\n",
      "Epoch 23/50\n",
      "24/24 [==============================] - 0s 2ms/step - loss: 38.7985 - mae: 4.5388 - val_loss: 45.5329 - val_mae: 4.5052\n",
      "Epoch 24/50\n",
      "24/24 [==============================] - 0s 2ms/step - loss: 37.6004 - mae: 4.5339 - val_loss: 41.8700 - val_mae: 4.4538\n",
      "Epoch 25/50\n",
      "24/24 [==============================] - 0s 2ms/step - loss: 37.6227 - mae: 4.3811 - val_loss: 41.2228 - val_mae: 4.5473\n",
      "Epoch 26/50\n",
      "24/24 [==============================] - 0s 2ms/step - loss: 36.0409 - mae: 4.3534 - val_loss: 41.1717 - val_mae: 4.3762\n",
      "Epoch 27/50\n",
      "24/24 [==============================] - 0s 2ms/step - loss: 35.9174 - mae: 4.4586 - val_loss: 47.1768 - val_mae: 4.7049\n",
      "Epoch 28/50\n",
      "24/24 [==============================] - 0s 2ms/step - loss: 37.3863 - mae: 4.4953 - val_loss: 39.4300 - val_mae: 4.4970\n",
      "Epoch 29/50\n",
      "24/24 [==============================] - 0s 2ms/step - loss: 35.0281 - mae: 4.2970 - val_loss: 41.3887 - val_mae: 4.3569\n",
      "Epoch 30/50\n",
      "24/24 [==============================] - 0s 2ms/step - loss: 32.7546 - mae: 4.1938 - val_loss: 38.3968 - val_mae: 4.3059\n",
      "Epoch 31/50\n",
      "24/24 [==============================] - 0s 2ms/step - loss: 32.4456 - mae: 4.2169 - val_loss: 43.0902 - val_mae: 4.5329\n",
      "Epoch 32/50\n",
      "24/24 [==============================] - 0s 2ms/step - loss: 32.5710 - mae: 4.1536 - val_loss: 42.9711 - val_mae: 4.5036\n",
      "Epoch 33/50\n",
      "24/24 [==============================] - 0s 2ms/step - loss: 33.2189 - mae: 4.2730 - val_loss: 36.6249 - val_mae: 4.2919\n",
      "Epoch 34/50\n",
      "24/24 [==============================] - 0s 2ms/step - loss: 30.6576 - mae: 4.0967 - val_loss: 37.5201 - val_mae: 4.3331\n",
      "Epoch 35/50\n",
      "24/24 [==============================] - 0s 2ms/step - loss: 34.3237 - mae: 4.3024 - val_loss: 37.9827 - val_mae: 4.6621\n",
      "Epoch 36/50\n",
      "24/24 [==============================] - 0s 2ms/step - loss: 31.2787 - mae: 4.1586 - val_loss: 37.7391 - val_mae: 4.2475\n",
      "Epoch 37/50\n",
      "24/24 [==============================] - 0s 2ms/step - loss: 30.2251 - mae: 4.0657 - val_loss: 52.2968 - val_mae: 5.2227\n",
      "Epoch 38/50\n",
      "24/24 [==============================] - 0s 2ms/step - loss: 32.6453 - mae: 4.1811 - val_loss: 36.7685 - val_mae: 4.5506\n",
      "Epoch 39/50\n",
      "24/24 [==============================] - 0s 2ms/step - loss: 33.3397 - mae: 4.2986 - val_loss: 54.6017 - val_mae: 5.3756\n",
      "Epoch 40/50\n",
      "24/24 [==============================] - 0s 2ms/step - loss: 35.7853 - mae: 4.4773 - val_loss: 33.6455 - val_mae: 4.1561\n",
      "Epoch 41/50\n",
      "24/24 [==============================] - 0s 2ms/step - loss: 28.7072 - mae: 3.9443 - val_loss: 36.5617 - val_mae: 4.1478\n",
      "Epoch 42/50\n",
      "24/24 [==============================] - 0s 2ms/step - loss: 30.3315 - mae: 4.0545 - val_loss: 35.6926 - val_mae: 4.1023\n",
      "Epoch 43/50\n",
      "24/24 [==============================] - 0s 2ms/step - loss: 29.0284 - mae: 3.8734 - val_loss: 33.7488 - val_mae: 4.2949\n",
      "Epoch 44/50\n",
      "24/24 [==============================] - 0s 2ms/step - loss: 27.6008 - mae: 3.9313 - val_loss: 34.3873 - val_mae: 4.0911\n",
      "Epoch 45/50\n",
      "24/24 [==============================] - 0s 2ms/step - loss: 29.9579 - mae: 3.9966 - val_loss: 32.9023 - val_mae: 4.1758\n",
      "Epoch 46/50\n",
      "24/24 [==============================] - 0s 2ms/step - loss: 27.5066 - mae: 3.9043 - val_loss: 39.2222 - val_mae: 4.4571\n",
      "Epoch 47/50\n",
      "24/24 [==============================] - 0s 2ms/step - loss: 29.7637 - mae: 4.0497 - val_loss: 33.6359 - val_mae: 4.4136\n",
      "Epoch 48/50\n",
      "24/24 [==============================] - 0s 2ms/step - loss: 29.5694 - mae: 4.0615 - val_loss: 32.0033 - val_mae: 4.0955\n",
      "Epoch 49/50\n",
      "24/24 [==============================] - 0s 2ms/step - loss: 26.8226 - mae: 3.8199 - val_loss: 31.5660 - val_mae: 4.1500\n",
      "Epoch 50/50\n",
      "24/24 [==============================] - 0s 2ms/step - loss: 27.8591 - mae: 3.9714 - val_loss: 32.4376 - val_mae: 4.0528\n"
     ]
    }
   ],
   "source": [
    "net.compile('adam','mse', ['mae'])\n",
    "hist = net.fit(X_train, y_train, batch_size=16, epochs=50, validation_data=(X_test, y_test))"
   ]
  },
  {
   "cell_type": "code",
   "execution_count": 150,
   "metadata": {},
   "outputs": [
    {
     "name": "stdout",
     "output_type": "stream",
     "text": [
      "4/4 [==============================] - 0s 997us/step - loss: 32.4376 - mae: 4.0528\n"
     ]
    },
    {
     "data": {
      "text/plain": [
       "[32.43758773803711, 4.052781105041504]"
      ]
     },
     "execution_count": 150,
     "metadata": {},
     "output_type": "execute_result"
    }
   ],
   "source": [
    "net.evaluate(X_test, y_test)"
   ]
  },
  {
   "cell_type": "markdown",
   "metadata": {},
   "source": []
  }
 ],
 "metadata": {
  "language_info": {
   "name": "python"
  },
  "orig_nbformat": 4
 },
 "nbformat": 4,
 "nbformat_minor": 2
}
