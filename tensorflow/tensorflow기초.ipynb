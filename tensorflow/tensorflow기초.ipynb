{
 "cells": [
  {
   "cell_type": "code",
   "execution_count": 2,
   "metadata": {},
   "outputs": [
    {
     "data": {
      "text/plain": [
       "'2.7.0'"
      ]
     },
     "execution_count": 2,
     "metadata": {},
     "output_type": "execute_result"
    }
   ],
   "source": [
    "from tensorflow import keras\n",
    "keras.__version__"
   ]
  },
  {
   "cell_type": "code",
   "execution_count": 3,
   "metadata": {},
   "outputs": [],
   "source": [
    "from tensorflow.keras.datasets import mnist\n",
    "\n",
    "(train_images, train_labels), (test_images, test_labels) = mnist.load_data()"
   ]
  },
  {
   "cell_type": "code",
   "execution_count": 4,
   "metadata": {},
   "outputs": [
    {
     "data": {
      "text/plain": [
       "((60000, 28, 28), (10000, 28, 28))"
      ]
     },
     "execution_count": 4,
     "metadata": {},
     "output_type": "execute_result"
    }
   ],
   "source": [
    "train_images.shape, test_images.shape"
   ]
  },
  {
   "cell_type": "code",
   "execution_count": 5,
   "metadata": {},
   "outputs": [
    {
     "data": {
      "image/png": "[encoded data removed]",
      "text/plain": [
       "<Figure size 432x288 with 1 Axes>"
      ]
     },
     "metadata": {
      "needs_background": "light"
     },
     "output_type": "display_data"
    }
   ],
   "source": [
    "import matplotlib.pyplot as plt\n",
    "digit = train_images[4]\n",
    "\n",
    "plt.imshow(digit, cmap=plt.cm.binary)\n",
    "plt.show()"
   ]
  },
  {
   "cell_type": "code",
   "execution_count": 6,
   "metadata": {},
   "outputs": [
    {
     "data": {
      "text/plain": [
       "(60000, 28, 28)"
      ]
     },
     "execution_count": 6,
     "metadata": {},
     "output_type": "execute_result"
    }
   ],
   "source": [
    "train_images.shape"
   ]
  },
  {
   "cell_type": "code",
   "execution_count": 7,
   "metadata": {},
   "outputs": [
    {
     "data": {
      "text/plain": [
       "9"
      ]
     },
     "execution_count": 7,
     "metadata": {},
     "output_type": "execute_result"
    }
   ],
   "source": [
    "train_labels[4]"
   ]
  },
  {
   "cell_type": "code",
   "execution_count": 8,
   "metadata": {},
   "outputs": [],
   "source": [
    "from tensorflow.keras import models\n",
    "from tensorflow.keras import layers\n",
    "\n",
    "network = models.Sequential()\n",
    "network.add(layers.Dense(512, activation='relu', input_shape=(28*28,)))\n",
    "network.add(layers.Dense(10, activation='softmax')) #분류모델은 'sigmoid' 멀티클래스 'softmax' #회귀모델인 경우 'linear'"
   ]
  },
  {
   "cell_type": "code",
   "execution_count": 9,
   "metadata": {},
   "outputs": [],
   "source": [
    "# 모델 형성시 필요한 조건\n",
    "# 1. 가운데 정보가 가장 많아야 한다(사진같이)\n",
    "# 2. 이미지는 공간적으로  픽셀같에 커릴레이션?(연관성?) 정보를 유지할 수 있어야한다.\n",
    "# 3. 각각의 채널의 방향은 독립이다.\n",
    "# 4. 이미지는 이미지자체의 배열정보도 같이 저장해야한다.\n",
    "# 5. 딥러닝 모델은 모든 layer를 학습할 필요 없다 개개소 layer만 재학습돌려도 잘 작동"
   ]
  },
  {
   "cell_type": "code",
   "execution_count": 10,
   "metadata": {},
   "outputs": [
    {
     "data": {
      "text/plain": [
       "401920"
      ]
     },
     "execution_count": 10,
     "metadata": {},
     "output_type": "execute_result"
    }
   ],
   "source": [
    "785*512"
   ]
  },
  {
   "cell_type": "code",
   "execution_count": 11,
   "metadata": {},
   "outputs": [
    {
     "name": "stdout",
     "output_type": "stream",
     "text": [
      "Model: \"sequential\"\n",
      "_________________________________________________________________\n",
      " Layer (type)                Output Shape              Param #   \n",
      "=================================================================\n",
      " dense (Dense)               (None, 512)               401920    \n",
      "                                                                 \n",
      " dense_1 (Dense)             (None, 10)                5130      \n",
      "                                                                 \n",
      "=================================================================\n",
      "Total params: 407,050\n",
      "Trainable params: 407,050\n",
      "Non-trainable params: 0\n",
      "_________________________________________________________________\n"
     ]
    }
   ],
   "source": [
    "network.summary() # 모든 학습파라메타 407050, 학습가능 407050 학습 불가능 0"
   ]
  },
  {
   "cell_type": "code",
   "execution_count": 12,
   "metadata": {},
   "outputs": [
    {
     "data": {
      "text/plain": [
       "(TensorShape([784, 512]), TensorShape([512]))"
      ]
     },
     "execution_count": 12,
     "metadata": {},
     "output_type": "execute_result"
    }
   ],
   "source": [
    "ly0=network.layers[0]\n",
    "ly0.weights\n",
    "w1 = ly0.weights[0]\n",
    "b1 = ly0.weights[1]\n",
    "\n",
    "w1.shape, b1.shape #입력사이즈 512, 출력사이즈 10"
   ]
  },
  {
   "cell_type": "code",
   "execution_count": 13,
   "metadata": {},
   "outputs": [],
   "source": [
    "network.compile(optimizer='rmsprop', loss='categorical_crossentropy',metrics=['accuracy'])"
   ]
  },
  {
   "cell_type": "code",
   "execution_count": 14,
   "metadata": {},
   "outputs": [],
   "source": [
    "train_images = train_images.reshape((60000, 28*28))\n",
    "train_images = train_images.astype('float32') / 255\n",
    "\n",
    "test_images = test_images.reshape((10000, 28*28))\n",
    "test_images = test_images.astype('float32') / 255"
   ]
  },
  {
   "cell_type": "code",
   "execution_count": 15,
   "metadata": {},
   "outputs": [],
   "source": [
    "from tensorflow.keras.utils import to_categorical\n",
    "train_labels = to_categorical(train_labels)\n",
    "test_labels = to_categorical(test_labels)"
   ]
  },
  {
   "cell_type": "code",
   "execution_count": 16,
   "metadata": {},
   "outputs": [
    {
     "data": {
      "text/plain": [
       "(60000, 10)"
      ]
     },
     "execution_count": 16,
     "metadata": {},
     "output_type": "execute_result"
    }
   ],
   "source": [
    "train_labels.shape"
   ]
  },
  {
   "cell_type": "code",
   "execution_count": 17,
   "metadata": {},
   "outputs": [
    {
     "name": "stdout",
     "output_type": "stream",
     "text": [
      "Epoch 1/5\n",
      "469/469 [==============================] - 2s 4ms/step - loss: 0.2538 - accuracy: 0.9267\n",
      "Epoch 2/5\n",
      "469/469 [==============================] - 2s 4ms/step - loss: 0.1039 - accuracy: 0.9692\n",
      "Epoch 3/5\n",
      "469/469 [==============================] - 2s 4ms/step - loss: 0.0682 - accuracy: 0.9793\n",
      "Epoch 4/5\n",
      "469/469 [==============================] - 2s 4ms/step - loss: 0.0502 - accuracy: 0.9848\n",
      "Epoch 5/5\n",
      "469/469 [==============================] - 2s 5ms/step - loss: 0.0370 - accuracy: 0.9887\n"
     ]
    }
   ],
   "source": [
    "hist = network.fit(train_images, train_labels, epochs=5, batch_size=128)"
   ]
  },
  {
   "cell_type": "code",
   "execution_count": 18,
   "metadata": {},
   "outputs": [
    {
     "name": "stdout",
     "output_type": "stream",
     "text": [
      "313/313 [==============================] - 1s 1ms/step - loss: 0.0656 - accuracy: 0.9800\n"
     ]
    }
   ],
   "source": [
    "test_loss, test_acc = network.evaluate(test_images, test_labels)"
   ]
  },
  {
   "cell_type": "code",
   "execution_count": 19,
   "metadata": {},
   "outputs": [
    {
     "name": "stdout",
     "output_type": "stream",
     "text": [
      "test_acc: 0.9800000190734863\n"
     ]
    }
   ],
   "source": [
    "print('test_acc:', test_acc)"
   ]
  },
  {
   "cell_type": "code",
   "execution_count": 20,
   "metadata": {},
   "outputs": [],
   "source": [
    "from sklearn.datasets import load_iris\n",
    "iris = load_iris()\n",
    "X=iris.data\n",
    "y=iris.target"
   ]
  },
  {
   "cell_type": "code",
   "execution_count": 21,
   "metadata": {},
   "outputs": [
    {
     "data": {
      "text/plain": [
       "array([0, 0, 0, 0, 0, 0, 0, 0, 0, 0, 0, 0, 0, 0, 0, 0, 0, 0, 0, 0, 0, 0,\n",
       "       0, 0, 0, 0, 0, 0, 0, 0, 0, 0, 0, 0, 0, 0, 0, 0, 0, 0, 0, 0, 0, 0,\n",
       "       0, 0, 0, 0, 0, 0, 1, 1, 1, 1, 1, 1, 1, 1, 1, 1, 1, 1, 1, 1, 1, 1,\n",
       "       1, 1, 1, 1, 1, 1, 1, 1, 1, 1, 1, 1, 1, 1, 1, 1, 1, 1, 1, 1, 1, 1,\n",
       "       1, 1, 1, 1, 1, 1, 1, 1, 1, 1, 1, 1, 2, 2, 2, 2, 2, 2, 2, 2, 2, 2,\n",
       "       2, 2, 2, 2, 2, 2, 2, 2, 2, 2, 2, 2, 2, 2, 2, 2, 2, 2, 2, 2, 2, 2,\n",
       "       2, 2, 2, 2, 2, 2, 2, 2, 2, 2, 2, 2, 2, 2, 2, 2, 2, 2])"
      ]
     },
     "execution_count": 21,
     "metadata": {},
     "output_type": "execute_result"
    }
   ],
   "source": [
    "y"
   ]
  },
  {
   "cell_type": "code",
   "execution_count": 22,
   "metadata": {},
   "outputs": [],
   "source": [
    "from sklearn.model_selection import train_test_split\n",
    "X_train, X_test, y_train, y_test = train_test_split(X,y,stratify=y, \n",
    "random_state=2022, test_size=0.3)"
   ]
  },
  {
   "cell_type": "code",
   "execution_count": 23,
   "metadata": {},
   "outputs": [
    {
     "data": {
      "text/plain": [
       "(105, 4)"
      ]
     },
     "execution_count": 23,
     "metadata": {},
     "output_type": "execute_result"
    }
   ],
   "source": [
    "X_train.shape"
   ]
  },
  {
   "cell_type": "code",
   "execution_count": 24,
   "metadata": {},
   "outputs": [],
   "source": [
    "import tensorflow as tf\n",
    "from tensorflow.keras import models\n",
    "model = models.Sequential()\n",
    "model.add(tf.keras.layers.Dense(units=6, input_dim = X_train.shape[1], \n",
    "activation='tanh'))\n"
   ]
  },
  {
   "cell_type": "code",
   "execution_count": 25,
   "metadata": {},
   "outputs": [],
   "source": [
    "model.add(tf.keras.layers.Dense(units=3, activation='softmax'))"
   ]
  },
  {
   "cell_type": "code",
   "execution_count": 26,
   "metadata": {},
   "outputs": [
    {
     "name": "stdout",
     "output_type": "stream",
     "text": [
      "Model: \"sequential_1\"\n",
      "_________________________________________________________________\n",
      " Layer (type)                Output Shape              Param #   \n",
      "=================================================================\n",
      " dense_2 (Dense)             (None, 6)                 30        \n",
      "                                                                 \n",
      " dense_3 (Dense)             (None, 3)                 21        \n",
      "                                                                 \n",
      "=================================================================\n",
      "Total params: 51\n",
      "Trainable params: 51\n",
      "Non-trainable params: 0\n",
      "_________________________________________________________________\n"
     ]
    }
   ],
   "source": [
    "model.summary()"
   ]
  },
  {
   "cell_type": "code",
   "execution_count": 27,
   "metadata": {},
   "outputs": [],
   "source": [
    "optimizer = tf.keras.optimizers.SGD(learning_rate=0.01, momentum=0.9, nesterov=True)\n"
   ]
  },
  {
   "cell_type": "code",
   "execution_count": 28,
   "metadata": {},
   "outputs": [],
   "source": [
    "model.compile(optimizer = optimizer, loss = 'categorical_crossentropy')"
   ]
  },
  {
   "cell_type": "code",
   "execution_count": 29,
   "metadata": {},
   "outputs": [],
   "source": [
    "label_tr = tf.keras.utils.to_categorical(y_train)"
   ]
  },
  {
   "cell_type": "code",
   "execution_count": 30,
   "metadata": {},
   "outputs": [
    {
     "name": "stdout",
     "output_type": "stream",
     "text": [
      "Epoch 1/20\n",
      "7/7 [==============================] - 0s 1ms/step - loss: 2.2533\n",
      "Epoch 2/20\n",
      "7/7 [==============================] - 0s 997us/step - loss: 1.1160\n",
      "Epoch 3/20\n",
      "7/7 [==============================] - 0s 997us/step - loss: 0.8838\n",
      "Epoch 4/20\n",
      "7/7 [==============================] - 0s 1ms/step - loss: 0.7733\n",
      "Epoch 5/20\n",
      "7/7 [==============================] - 0s 997us/step - loss: 0.6759\n",
      "Epoch 6/20\n",
      "7/7 [==============================] - 0s 1ms/step - loss: 0.6137\n",
      "Epoch 7/20\n",
      "7/7 [==============================] - 0s 998us/step - loss: 0.5618\n",
      "Epoch 8/20\n",
      "7/7 [==============================] - 0s 1ms/step - loss: 0.5402\n",
      "Epoch 9/20\n",
      "7/7 [==============================] - 0s 1ms/step - loss: 0.5153\n",
      "Epoch 10/20\n",
      "7/7 [==============================] - 0s 1ms/step - loss: 0.4993\n",
      "Epoch 11/20\n",
      "7/7 [==============================] - 0s 1ms/step - loss: 0.4806\n",
      "Epoch 12/20\n",
      "7/7 [==============================] - 0s 1ms/step - loss: 0.4728\n",
      "Epoch 13/20\n",
      "7/7 [==============================] - 0s 1ms/step - loss: 0.4556\n",
      "Epoch 14/20\n",
      "7/7 [==============================] - 0s 1ms/step - loss: 0.4381\n",
      "Epoch 15/20\n",
      "7/7 [==============================] - 0s 1ms/step - loss: 0.4257\n",
      "Epoch 16/20\n",
      "7/7 [==============================] - 0s 999us/step - loss: 0.4071\n",
      "Epoch 17/20\n",
      "7/7 [==============================] - 0s 1ms/step - loss: 0.4105\n",
      "Epoch 18/20\n",
      "7/7 [==============================] - 0s 997us/step - loss: 0.4009\n",
      "Epoch 19/20\n",
      "7/7 [==============================] - 0s 1ms/step - loss: 0.3747\n",
      "Epoch 20/20\n",
      "7/7 [==============================] - 0s 1ms/step - loss: 0.3435\n"
     ]
    }
   ],
   "source": [
    "history = model.fit(X_train, label_tr, batch_size=16, epochs=20)"
   ]
  },
  {
   "cell_type": "code",
   "execution_count": 31,
   "metadata": {},
   "outputs": [
    {
     "name": "stdout",
     "output_type": "stream",
     "text": [
      "2/2 [==============================] - 0s 2ms/step - loss: 0.3757\n"
     ]
    },
    {
     "data": {
      "text/plain": [
       "0.3756832182407379"
      ]
     },
     "execution_count": 31,
     "metadata": {},
     "output_type": "execute_result"
    }
   ],
   "source": [
    "y_test = to_categorical(y_test)\n",
    "model.evaluate(X_test, y_test)\n"
   ]
  },
  {
   "cell_type": "code",
   "execution_count": 32,
   "metadata": {},
   "outputs": [],
   "source": [
    "from sklearn.datasets import load_boston\n",
    "boston = load_boston()\n",
    "from sklearn.model_selection import train_test_split\n",
    "X_train, X_test, y_train, y_test = train_test_split(boston.data, boston.target)"
   ]
  },
  {
   "cell_type": "code",
   "execution_count": 33,
   "metadata": {},
   "outputs": [
    {
     "data": {
      "text/plain": [
       "13"
      ]
     },
     "execution_count": 33,
     "metadata": {},
     "output_type": "execute_result"
    }
   ],
   "source": [
    "X_train.shape[1]"
   ]
  },
  {
   "cell_type": "code",
   "execution_count": 36,
   "metadata": {},
   "outputs": [],
   "source": [
    "from tensorflow.keras import Sequential\n",
    "import tensorflow.keras.layers as lp\n",
    "net = Sequential()\n",
    "net.add(lp.Dense(25, activation='relu', input_dim =X_train.shape[1]))"
   ]
  },
  {
   "cell_type": "code",
   "execution_count": 37,
   "metadata": {},
   "outputs": [],
   "source": [
    "net.add(lp.Dense(6, activation='relu'))\n",
    "net.add(lp.Dense(2,activation='linear'))"
   ]
  },
  {
   "cell_type": "code",
   "execution_count": 38,
   "metadata": {},
   "outputs": [
    {
     "name": "stdout",
     "output_type": "stream",
     "text": [
      "Model: \"sequential_4\"\n",
      "_________________________________________________________________\n",
      " Layer (type)                Output Shape              Param #   \n",
      "=================================================================\n",
      " dense_4 (Dense)             (None, 25)                350       \n",
      "                                                                 \n",
      " dense_5 (Dense)             (None, 6)                 156       \n",
      "                                                                 \n",
      " dense_6 (Dense)             (None, 2)                 14        \n",
      "                                                                 \n",
      "=================================================================\n",
      "Total params: 520\n",
      "Trainable params: 520\n",
      "Non-trainable params: 0\n",
      "_________________________________________________________________\n"
     ]
    }
   ],
   "source": [
    "net.summary()"
   ]
  },
  {
   "cell_type": "code",
   "execution_count": 39,
   "metadata": {},
   "outputs": [
    {
     "ename": "IndentationError",
     "evalue": "unexpected indent (<ipython-input-39-8ca88a334cfc>, line 2)",
     "output_type": "error",
     "traceback": [
      "\u001b[1;36m  File \u001b[1;32m\"<ipython-input-39-8ca88a334cfc>\"\u001b[1;36m, line \u001b[1;32m2\u001b[0m\n\u001b[1;33m    return np.square(y - p).mean()\u001b[0m\n\u001b[1;37m    ^\u001b[0m\n\u001b[1;31mIndentationError\u001b[0m\u001b[1;31m:\u001b[0m unexpected indent\n"
     ]
    }
   ],
   "source": [
    "#def mse(y, p):\n",
    "    return np.square(y - p).mean()\n",
    "\n",
    "#def mae(y, p):\n",
    "    return np.abs(y - p).mean()"
   ]
  },
  {
   "cell_type": "code",
   "execution_count": 40,
   "metadata": {},
   "outputs": [
    {
     "name": "stdout",
     "output_type": "stream",
     "text": [
      "Epoch 1/50\n",
      "24/24 [==============================] - 0s 5ms/step - loss: 4078.7400 - mae: 59.7359 - val_loss: 1486.8848 - val_mae: 34.5412\n",
      "Epoch 2/50\n",
      "24/24 [==============================] - 0s 2ms/step - loss: 714.3318 - mae: 22.2941 - val_loss: 268.6482 - val_mae: 13.4052\n",
      "Epoch 3/50\n",
      "24/24 [==============================] - 0s 2ms/step - loss: 228.2948 - mae: 11.9257 - val_loss: 193.0211 - val_mae: 10.6509\n",
      "Epoch 4/50\n",
      "24/24 [==============================] - 0s 2ms/step - loss: 171.1737 - mae: 9.9799 - val_loss: 139.3336 - val_mae: 8.8577\n",
      "Epoch 5/50\n",
      "24/24 [==============================] - 0s 2ms/step - loss: 129.6878 - mae: 8.4868 - val_loss: 103.9476 - val_mae: 7.4452\n",
      "Epoch 6/50\n",
      "24/24 [==============================] - 0s 2ms/step - loss: 102.8793 - mae: 7.5317 - val_loss: 85.1233 - val_mae: 6.8319\n",
      "Epoch 7/50\n",
      "24/24 [==============================] - 0s 2ms/step - loss: 89.5696 - mae: 7.0117 - val_loss: 75.6370 - val_mae: 6.4432\n",
      "Epoch 8/50\n",
      "24/24 [==============================] - 0s 2ms/step - loss: 82.4791 - mae: 6.8498 - val_loss: 71.2190 - val_mae: 6.2891\n",
      "Epoch 9/50\n",
      "24/24 [==============================] - 0s 2ms/step - loss: 77.8627 - mae: 6.4048 - val_loss: 68.3485 - val_mae: 6.0146\n",
      "Epoch 10/50\n",
      "24/24 [==============================] - 0s 2ms/step - loss: 75.0779 - mae: 6.3367 - val_loss: 65.8076 - val_mae: 6.0351\n",
      "Epoch 11/50\n",
      "24/24 [==============================] - 0s 2ms/step - loss: 73.3784 - mae: 6.3995 - val_loss: 63.9012 - val_mae: 5.9034\n",
      "Epoch 12/50\n",
      "24/24 [==============================] - 0s 2ms/step - loss: 71.7312 - mae: 6.3120 - val_loss: 62.6357 - val_mae: 5.7207\n",
      "Epoch 13/50\n",
      "24/24 [==============================] - 0s 2ms/step - loss: 70.0802 - mae: 5.9761 - val_loss: 61.2457 - val_mae: 5.7122\n",
      "Epoch 14/50\n",
      "24/24 [==============================] - 0s 2ms/step - loss: 68.8226 - mae: 6.0951 - val_loss: 60.0887 - val_mae: 5.6267\n",
      "Epoch 15/50\n",
      "24/24 [==============================] - 0s 2ms/step - loss: 67.0651 - mae: 5.9586 - val_loss: 58.9623 - val_mae: 5.5717\n",
      "Epoch 16/50\n",
      "24/24 [==============================] - 0s 2ms/step - loss: 65.7979 - mae: 5.8653 - val_loss: 58.1588 - val_mae: 5.5964\n",
      "Epoch 17/50\n",
      "24/24 [==============================] - 0s 2ms/step - loss: 64.2953 - mae: 5.7302 - val_loss: 57.2276 - val_mae: 5.5084\n",
      "Epoch 18/50\n",
      "24/24 [==============================] - 0s 2ms/step - loss: 62.9030 - mae: 5.7343 - val_loss: 56.5723 - val_mae: 5.4077\n",
      "Epoch 19/50\n",
      "24/24 [==============================] - 0s 2ms/step - loss: 62.3301 - mae: 5.5412 - val_loss: 56.5473 - val_mae: 5.6855\n",
      "Epoch 20/50\n",
      "24/24 [==============================] - 0s 2ms/step - loss: 61.6911 - mae: 5.7342 - val_loss: 55.8484 - val_mae: 5.1669\n",
      "Epoch 21/50\n",
      "24/24 [==============================] - 0s 2ms/step - loss: 60.2707 - mae: 5.4975 - val_loss: 54.6354 - val_mae: 5.3736\n",
      "Epoch 22/50\n",
      "24/24 [==============================] - 0s 2ms/step - loss: 59.4242 - mae: 5.4627 - val_loss: 53.9459 - val_mae: 5.2985\n",
      "Epoch 23/50\n",
      "24/24 [==============================] - 0s 2ms/step - loss: 58.7311 - mae: 5.4625 - val_loss: 53.3841 - val_mae: 5.1715\n",
      "Epoch 24/50\n",
      "24/24 [==============================] - 0s 2ms/step - loss: 58.3540 - mae: 5.3960 - val_loss: 53.1255 - val_mae: 5.3632\n",
      "Epoch 25/50\n",
      "24/24 [==============================] - 0s 2ms/step - loss: 57.7436 - mae: 5.5022 - val_loss: 53.9944 - val_mae: 4.9201\n",
      "Epoch 26/50\n",
      "24/24 [==============================] - 0s 2ms/step - loss: 57.3526 - mae: 5.2122 - val_loss: 52.9848 - val_mae: 5.5026\n",
      "Epoch 27/50\n",
      "24/24 [==============================] - 0s 2ms/step - loss: 57.1545 - mae: 5.3977 - val_loss: 51.3999 - val_mae: 5.1440\n",
      "Epoch 28/50\n",
      "24/24 [==============================] - 0s 2ms/step - loss: 56.4585 - mae: 5.2182 - val_loss: 51.0385 - val_mae: 5.1662\n",
      "Epoch 29/50\n",
      "24/24 [==============================] - 0s 2ms/step - loss: 55.6145 - mae: 5.3449 - val_loss: 50.4782 - val_mae: 5.0848\n",
      "Epoch 30/50\n",
      "24/24 [==============================] - 0s 2ms/step - loss: 55.0477 - mae: 5.2945 - val_loss: 50.0168 - val_mae: 5.0499\n",
      "Epoch 31/50\n",
      "24/24 [==============================] - 0s 2ms/step - loss: 54.6748 - mae: 5.2474 - val_loss: 49.5422 - val_mae: 4.9856\n",
      "Epoch 32/50\n",
      "24/24 [==============================] - 0s 2ms/step - loss: 54.7642 - mae: 5.1842 - val_loss: 49.8576 - val_mae: 5.2864\n",
      "Epoch 33/50\n",
      "24/24 [==============================] - 0s 2ms/step - loss: 53.4576 - mae: 5.2178 - val_loss: 48.9440 - val_mae: 4.8275\n",
      "Epoch 34/50\n",
      "24/24 [==============================] - 0s 2ms/step - loss: 53.3701 - mae: 5.1063 - val_loss: 48.7475 - val_mae: 5.1839\n",
      "Epoch 35/50\n",
      "24/24 [==============================] - 0s 2ms/step - loss: 52.5236 - mae: 5.1533 - val_loss: 48.0803 - val_mae: 4.7857\n",
      "Epoch 36/50\n",
      "24/24 [==============================] - 0s 2ms/step - loss: 52.2360 - mae: 4.9854 - val_loss: 48.5023 - val_mae: 5.2947\n",
      "Epoch 37/50\n",
      "24/24 [==============================] - 0s 2ms/step - loss: 52.1540 - mae: 5.2165 - val_loss: 48.7434 - val_mae: 4.6182\n",
      "Epoch 38/50\n",
      "24/24 [==============================] - 0s 2ms/step - loss: 52.6969 - mae: 5.1180 - val_loss: 46.3932 - val_mae: 4.7885\n",
      "Epoch 39/50\n",
      "24/24 [==============================] - 0s 2ms/step - loss: 50.9182 - mae: 4.9129 - val_loss: 45.9524 - val_mae: 4.8481\n",
      "Epoch 40/50\n",
      "24/24 [==============================] - 0s 2ms/step - loss: 51.0776 - mae: 5.1110 - val_loss: 46.0578 - val_mae: 4.6286\n",
      "Epoch 41/50\n",
      "24/24 [==============================] - 0s 2ms/step - loss: 50.3833 - mae: 5.0255 - val_loss: 45.1721 - val_mae: 4.6919\n",
      "Epoch 42/50\n",
      "24/24 [==============================] - 0s 2ms/step - loss: 49.9741 - mae: 4.9440 - val_loss: 44.6872 - val_mae: 4.7762\n",
      "Epoch 43/50\n",
      "24/24 [==============================] - 0s 2ms/step - loss: 49.3597 - mae: 4.9163 - val_loss: 44.3432 - val_mae: 4.6583\n",
      "Epoch 44/50\n",
      "24/24 [==============================] - 0s 2ms/step - loss: 49.3234 - mae: 5.0000 - val_loss: 44.0464 - val_mae: 4.5774\n",
      "Epoch 45/50\n",
      "24/24 [==============================] - 0s 2ms/step - loss: 48.8441 - mae: 4.9171 - val_loss: 43.3578 - val_mae: 4.6829\n",
      "Epoch 46/50\n",
      "24/24 [==============================] - 0s 2ms/step - loss: 48.1189 - mae: 4.8673 - val_loss: 43.0050 - val_mae: 4.7258\n",
      "Epoch 47/50\n",
      "24/24 [==============================] - 0s 2ms/step - loss: 47.7392 - mae: 4.9764 - val_loss: 43.4062 - val_mae: 4.4482\n",
      "Epoch 48/50\n",
      "24/24 [==============================] - 0s 2ms/step - loss: 47.5024 - mae: 4.7816 - val_loss: 42.6446 - val_mae: 4.8479\n",
      "Epoch 49/50\n",
      "24/24 [==============================] - 0s 2ms/step - loss: 47.2982 - mae: 4.9376 - val_loss: 41.6891 - val_mae: 4.5998\n",
      "Epoch 50/50\n",
      "24/24 [==============================] - 0s 2ms/step - loss: 47.0638 - mae: 4.8538 - val_loss: 41.5387 - val_mae: 4.7110\n"
     ]
    }
   ],
   "source": [
    "net.compile('adam','mse', ['mae'])\n",
    "hist = net.fit(X_train, y_train, batch_size=16, epochs=50, validation_data=(X_test, y_test))"
   ]
  },
  {
   "cell_type": "code",
   "execution_count": 41,
   "metadata": {},
   "outputs": [
    {
     "name": "stdout",
     "output_type": "stream",
     "text": [
      "4/4 [==============================] - 0s 998us/step - loss: 41.5387 - mae: 4.7110\n"
     ]
    },
    {
     "data": {
      "text/plain": [
       "[41.53871536254883, 4.71095085144043]"
      ]
     },
     "execution_count": 41,
     "metadata": {},
     "output_type": "execute_result"
    }
   ],
   "source": [
    "net.evaluate(X_test, y_test)"
   ]
  },
  {
   "cell_type": "code",
   "execution_count": 42,
   "metadata": {},
   "outputs": [
    {
     "data": {
      "text/plain": [
       "array([151.,  75., 141., 206., 135.,  97., 138.,  63., 110., 310., 101.,\n",
       "        69., 179., 185., 118., 171., 166., 144.,  97., 168.,  68.,  49.,\n",
       "        68., 245., 184., 202., 137.,  85., 131., 283., 129.,  59., 341.,\n",
       "        87.,  65., 102., 265., 276., 252.,  90., 100.,  55.,  61.,  92.,\n",
       "       259.,  53., 190., 142.,  75., 142., 155., 225.,  59., 104., 182.,\n",
       "       128.,  52.,  37., 170., 170.,  61., 144.,  52., 128.,  71., 163.,\n",
       "       150.,  97., 160., 178.,  48., 270., 202., 111.,  85.,  42., 170.,\n",
       "       200., 252., 113., 143.,  51.,  52., 210.,  65., 141.,  55., 134.,\n",
       "        42., 111.,  98., 164.,  48.,  96.,  90., 162., 150., 279.,  92.,\n",
       "        83., 128., 102., 302., 198.,  95.,  53., 134., 144., 232.,  81.,\n",
       "       104.,  59., 246., 297., 258., 229., 275., 281., 179., 200., 200.,\n",
       "       173., 180.,  84., 121., 161.,  99., 109., 115., 268., 274., 158.,\n",
       "       107.,  83., 103., 272.,  85., 280., 336., 281., 118., 317., 235.,\n",
       "        60., 174., 259., 178., 128.,  96., 126., 288.,  88., 292.,  71.,\n",
       "       197., 186.,  25.,  84.,  96., 195.,  53., 217., 172., 131., 214.,\n",
       "        59.,  70., 220., 268., 152.,  47.,  74., 295., 101., 151., 127.,\n",
       "       237., 225.,  81., 151., 107.,  64., 138., 185., 265., 101., 137.,\n",
       "       143., 141.,  79., 292., 178.,  91., 116.,  86., 122.,  72., 129.,\n",
       "       142.,  90., 158.,  39., 196., 222., 277.,  99., 196., 202., 155.,\n",
       "        77., 191.,  70.,  73.,  49.,  65., 263., 248., 296., 214., 185.,\n",
       "        78.,  93., 252., 150.,  77., 208.,  77., 108., 160.,  53., 220.,\n",
       "       154., 259.,  90., 246., 124.,  67.,  72., 257., 262., 275., 177.,\n",
       "        71.,  47., 187., 125.,  78.,  51., 258., 215., 303., 243.,  91.,\n",
       "       150., 310., 153., 346.,  63.,  89.,  50.,  39., 103., 308., 116.,\n",
       "       145.,  74.,  45., 115., 264.,  87., 202., 127., 182., 241.,  66.,\n",
       "        94., 283.,  64., 102., 200., 265.,  94., 230., 181., 156., 233.,\n",
       "        60., 219.,  80.,  68., 332., 248.,  84., 200.,  55.,  85.,  89.,\n",
       "        31., 129.,  83., 275.,  65., 198., 236., 253., 124.,  44., 172.,\n",
       "       114., 142., 109., 180., 144., 163., 147.,  97., 220., 190., 109.,\n",
       "       191., 122., 230., 242., 248., 249., 192., 131., 237.,  78., 135.,\n",
       "       244., 199., 270., 164.,  72.,  96., 306.,  91., 214.,  95., 216.,\n",
       "       263., 178., 113., 200., 139., 139.,  88., 148.,  88., 243.,  71.,\n",
       "        77., 109., 272.,  60.,  54., 221.,  90., 311., 281., 182., 321.,\n",
       "        58., 262., 206., 233., 242., 123., 167.,  63., 197.,  71., 168.,\n",
       "       140., 217., 121., 235., 245.,  40.,  52., 104., 132.,  88.,  69.,\n",
       "       219.,  72., 201., 110.,  51., 277.,  63., 118.,  69., 273., 258.,\n",
       "        43., 198., 242., 232., 175.,  93., 168., 275., 293., 281.,  72.,\n",
       "       140., 189., 181., 209., 136., 261., 113., 131., 174., 257.,  55.,\n",
       "        84.,  42., 146., 212., 233.,  91., 111., 152., 120.,  67., 310.,\n",
       "        94., 183.,  66., 173.,  72.,  49.,  64.,  48., 178., 104., 132.,\n",
       "       220.,  57.])"
      ]
     },
     "execution_count": 42,
     "metadata": {},
     "output_type": "execute_result"
    }
   ],
   "source": [
    "from sklearn.datasets import load_diabetes\n",
    "data = load_diabetes()\n",
    "data.target"
   ]
  },
  {
   "cell_type": "code",
   "execution_count": 43,
   "metadata": {},
   "outputs": [],
   "source": [
    "from sklearn.model_selection import train_test_split\n",
    "X_train, X_test, y_train, y_test = train_test_split(\n",
    "    data.data, data.target\n",
    ")"
   ]
  },
  {
   "cell_type": "code",
   "execution_count": 44,
   "metadata": {},
   "outputs": [
    {
     "data": {
      "text/plain": [
       "10"
      ]
     },
     "execution_count": 44,
     "metadata": {},
     "output_type": "execute_result"
    }
   ],
   "source": [
    "X_train.shape[1]"
   ]
  },
  {
   "cell_type": "code",
   "execution_count": 46,
   "metadata": {},
   "outputs": [],
   "source": [
    "from tensorflow.keras import Sequential\n",
    "model = Sequential()\n",
    "model.add(lp.Dense(6, activation='relu',input_dim=X_train.shape[1]))"
   ]
  },
  {
   "cell_type": "code",
   "execution_count": 48,
   "metadata": {},
   "outputs": [],
   "source": [
    "model.add(lp.Dense(3, activation='linear'))"
   ]
  },
  {
   "cell_type": "code",
   "execution_count": 49,
   "metadata": {},
   "outputs": [
    {
     "name": "stdout",
     "output_type": "stream",
     "text": [
      "Model: \"sequential_6\"\n",
      "_________________________________________________________________\n",
      " Layer (type)                Output Shape              Param #   \n",
      "=================================================================\n",
      " dense_7 (Dense)             (None, 6)                 66        \n",
      "                                                                 \n",
      " dense_8 (Dense)             (None, 3)                 21        \n",
      "                                                                 \n",
      "=================================================================\n",
      "Total params: 87\n",
      "Trainable params: 87\n",
      "Non-trainable params: 0\n",
      "_________________________________________________________________\n"
     ]
    }
   ],
   "source": [
    "model.summary()"
   ]
  },
  {
   "cell_type": "code",
   "execution_count": 50,
   "metadata": {},
   "outputs": [
    {
     "name": "stdout",
     "output_type": "stream",
     "text": [
      "Epoch 1/50\n",
      "28/28 [==============================] - 0s 4ms/step - loss: 29739.4590 - mae: 153.9703 - val_loss: 27072.2402 - val_mae: 146.5996\n",
      "Epoch 2/50\n",
      "28/28 [==============================] - 0s 2ms/step - loss: 29726.6895 - mae: 153.9302 - val_loss: 27060.6445 - val_mae: 146.5616\n",
      "Epoch 3/50\n",
      "28/28 [==============================] - 0s 2ms/step - loss: 29714.4023 - mae: 153.8917 - val_loss: 27048.7500 - val_mae: 146.5225\n",
      "Epoch 4/50\n",
      "28/28 [==============================] - 0s 2ms/step - loss: 29701.6035 - mae: 153.8513 - val_loss: 27036.0137 - val_mae: 146.4805\n",
      "Epoch 5/50\n",
      "28/28 [==============================] - 0s 2ms/step - loss: 29687.7168 - mae: 153.8073 - val_loss: 27022.2109 - val_mae: 146.4349\n",
      "Epoch 6/50\n",
      "28/28 [==============================] - 0s 2ms/step - loss: 29672.5078 - mae: 153.7599 - val_loss: 27007.3887 - val_mae: 146.3859\n",
      "Epoch 7/50\n",
      "28/28 [==============================] - 0s 2ms/step - loss: 29656.0215 - mae: 153.7085 - val_loss: 26991.3945 - val_mae: 146.3330\n",
      "Epoch 8/50\n",
      "28/28 [==============================] - 0s 2ms/step - loss: 29638.3594 - mae: 153.6526 - val_loss: 26973.9844 - val_mae: 146.2755\n",
      "Epoch 9/50\n",
      "28/28 [==============================] - 0s 2ms/step - loss: 29619.3984 - mae: 153.5933 - val_loss: 26955.6309 - val_mae: 146.2150\n",
      "Epoch 10/50\n",
      "28/28 [==============================] - 0s 2ms/step - loss: 29599.4473 - mae: 153.5296 - val_loss: 26935.8926 - val_mae: 146.1499\n",
      "Epoch 11/50\n",
      "28/28 [==============================] - 0s 2ms/step - loss: 29577.9707 - mae: 153.4630 - val_loss: 26915.5527 - val_mae: 146.0828\n",
      "Epoch 12/50\n",
      "28/28 [==============================] - 0s 2ms/step - loss: 29555.3574 - mae: 153.3921 - val_loss: 26893.7598 - val_mae: 146.0108\n",
      "Epoch 13/50\n",
      "28/28 [==============================] - 0s 2ms/step - loss: 29531.5039 - mae: 153.3170 - val_loss: 26870.5781 - val_mae: 145.9345\n",
      "Epoch 14/50\n",
      "28/28 [==============================] - 0s 2ms/step - loss: 29506.2500 - mae: 153.2382 - val_loss: 26846.6797 - val_mae: 145.8555\n",
      "Epoch 15/50\n",
      "28/28 [==============================] - 0s 2ms/step - loss: 29479.9668 - mae: 153.1565 - val_loss: 26821.6914 - val_mae: 145.7732\n",
      "Epoch 16/50\n",
      "28/28 [==============================] - 0s 2ms/step - loss: 29452.6191 - mae: 153.0701 - val_loss: 26795.2910 - val_mae: 145.6861\n",
      "Epoch 17/50\n",
      "28/28 [==============================] - 0s 2ms/step - loss: 29424.0840 - mae: 152.9784 - val_loss: 26767.3184 - val_mae: 145.5938\n",
      "Epoch 18/50\n",
      "28/28 [==============================] - 0s 2ms/step - loss: 29393.9629 - mae: 152.8839 - val_loss: 26739.0117 - val_mae: 145.5003\n",
      "Epoch 19/50\n",
      "28/28 [==============================] - 0s 1ms/step - loss: 29362.9492 - mae: 152.7873 - val_loss: 26709.7891 - val_mae: 145.4037\n",
      "Epoch 20/50\n",
      "28/28 [==============================] - 0s 2ms/step - loss: 29330.9160 - mae: 152.6860 - val_loss: 26678.8047 - val_mae: 145.3012\n",
      "Epoch 21/50\n",
      "28/28 [==============================] - 0s 2ms/step - loss: 29297.5645 - mae: 152.5803 - val_loss: 26646.8340 - val_mae: 145.1957\n",
      "Epoch 22/50\n",
      "28/28 [==============================] - 0s 2ms/step - loss: 29263.0273 - mae: 152.4715 - val_loss: 26614.2109 - val_mae: 145.0878\n",
      "Epoch 23/50\n",
      "28/28 [==============================] - 0s 2ms/step - loss: 29227.5293 - mae: 152.3597 - val_loss: 26580.7090 - val_mae: 144.9767\n",
      "Epoch 24/50\n",
      "28/28 [==============================] - 0s 2ms/step - loss: 29191.0293 - mae: 152.2447 - val_loss: 26546.0684 - val_mae: 144.8621\n",
      "Epoch 25/50\n",
      "28/28 [==============================] - 0s 2ms/step - loss: 29153.1309 - mae: 152.1265 - val_loss: 26510.3945 - val_mae: 144.7438\n",
      "Epoch 26/50\n",
      "28/28 [==============================] - 0s 2ms/step - loss: 29114.2090 - mae: 152.0033 - val_loss: 26473.7773 - val_mae: 144.6221\n",
      "Epoch 27/50\n",
      "28/28 [==============================] - 0s 2ms/step - loss: 29074.3633 - mae: 151.8766 - val_loss: 26435.6426 - val_mae: 144.4958\n",
      "Epoch 28/50\n",
      "28/28 [==============================] - 0s 2ms/step - loss: 29033.0293 - mae: 151.7476 - val_loss: 26397.2949 - val_mae: 144.3684\n",
      "Epoch 29/50\n",
      "28/28 [==============================] - 0s 2ms/step - loss: 28991.1543 - mae: 151.6140 - val_loss: 26356.9375 - val_mae: 144.2345\n",
      "Epoch 30/50\n",
      "28/28 [==============================] - 0s 2ms/step - loss: 28947.8613 - mae: 151.4782 - val_loss: 26316.5742 - val_mae: 144.1002\n",
      "Epoch 31/50\n",
      "28/28 [==============================] - 0s 2ms/step - loss: 28904.2266 - mae: 151.3371 - val_loss: 26274.5137 - val_mae: 143.9604\n",
      "Epoch 32/50\n",
      "28/28 [==============================] - 0s 2ms/step - loss: 28858.9512 - mae: 151.1945 - val_loss: 26232.5234 - val_mae: 143.8204\n",
      "Epoch 33/50\n",
      "28/28 [==============================] - 0s 2ms/step - loss: 28813.3750 - mae: 151.0489 - val_loss: 26189.1074 - val_mae: 143.6756\n",
      "Epoch 34/50\n",
      "28/28 [==============================] - 0s 2ms/step - loss: 28766.5762 - mae: 150.8981 - val_loss: 26144.5898 - val_mae: 143.5271\n",
      "Epoch 35/50\n",
      "28/28 [==============================] - 0s 2ms/step - loss: 28718.4434 - mae: 150.7474 - val_loss: 26100.0117 - val_mae: 143.3780\n",
      "Epoch 36/50\n",
      "28/28 [==============================] - 0s 2ms/step - loss: 28669.3379 - mae: 150.5936 - val_loss: 26055.0605 - val_mae: 143.2274\n",
      "Epoch 37/50\n",
      "28/28 [==============================] - 0s 2ms/step - loss: 28620.1426 - mae: 150.4352 - val_loss: 26007.8398 - val_mae: 143.0696\n",
      "Epoch 38/50\n",
      "28/28 [==============================] - 0s 2ms/step - loss: 28568.8281 - mae: 150.2722 - val_loss: 25960.3633 - val_mae: 142.9102\n",
      "Epoch 39/50\n",
      "28/28 [==============================] - 0s 1ms/step - loss: 28517.5430 - mae: 150.1078 - val_loss: 25911.0566 - val_mae: 142.7452\n",
      "Epoch 40/50\n",
      "28/28 [==============================] - 0s 2ms/step - loss: 28464.9512 - mae: 149.9389 - val_loss: 25862.2051 - val_mae: 142.5810\n",
      "Epoch 41/50\n",
      "28/28 [==============================] - 0s 2ms/step - loss: 28411.9219 - mae: 149.7705 - val_loss: 25812.1953 - val_mae: 142.4131\n",
      "Epoch 42/50\n",
      "28/28 [==============================] - 0s 2ms/step - loss: 28357.8555 - mae: 149.5981 - val_loss: 25761.8770 - val_mae: 142.2436\n",
      "Epoch 43/50\n",
      "28/28 [==============================] - 0s 2ms/step - loss: 28303.3164 - mae: 149.4215 - val_loss: 25710.6523 - val_mae: 142.0709\n",
      "Epoch 44/50\n",
      "28/28 [==============================] - 0s 2ms/step - loss: 28247.9941 - mae: 149.2404 - val_loss: 25657.6641 - val_mae: 141.8920\n",
      "Epoch 45/50\n",
      "28/28 [==============================] - 0s 2ms/step - loss: 28190.6582 - mae: 149.0616 - val_loss: 25605.5762 - val_mae: 141.7161\n",
      "Epoch 46/50\n",
      "28/28 [==============================] - 0s 2ms/step - loss: 28133.7461 - mae: 148.8763 - val_loss: 25551.2734 - val_mae: 141.5327\n",
      "Epoch 47/50\n",
      "28/28 [==============================] - 0s 1ms/step - loss: 28075.0957 - mae: 148.6884 - val_loss: 25496.9414 - val_mae: 141.3488\n",
      "Epoch 48/50\n",
      "28/28 [==============================] - 0s 2ms/step - loss: 28016.4688 - mae: 148.4976 - val_loss: 25441.3555 - val_mae: 141.1606\n",
      "Epoch 49/50\n",
      "28/28 [==============================] - 0s 2ms/step - loss: 27956.7969 - mae: 148.3039 - val_loss: 25385.1211 - val_mae: 140.9698\n",
      "Epoch 50/50\n",
      "28/28 [==============================] - 0s 2ms/step - loss: 27896.1973 - mae: 148.1082 - val_loss: 25329.1387 - val_mae: 140.7793\n"
     ]
    },
    {
     "data": {
      "text/plain": [
       "<keras.callbacks.History at 0x2dbec5e5dc0>"
      ]
     },
     "execution_count": 50,
     "metadata": {},
     "output_type": "execute_result"
    }
   ],
   "source": [
    "model.compile('adam', 'mse', ['mae'])\n",
    "model.fit(X_train, y_train, epochs=50, batch_size=12, validation_data=(X_test, y_test))\n"
   ]
  },
  {
   "cell_type": "code",
   "execution_count": null,
   "metadata": {},
   "outputs": [],
   "source": []
  },
  {
   "cell_type": "code",
   "execution_count": null,
   "metadata": {},
   "outputs": [],
   "source": []
  },
  {
   "cell_type": "code",
   "execution_count": null,
   "metadata": {},
   "outputs": [],
   "source": []
  },
  {
   "cell_type": "code",
   "execution_count": null,
   "metadata": {},
   "outputs": [],
   "source": []
  },
  {
   "cell_type": "code",
   "execution_count": null,
   "metadata": {},
   "outputs": [],
   "source": []
  },
  {
   "cell_type": "code",
   "execution_count": null,
   "metadata": {},
   "outputs": [],
   "source": []
  },
  {
   "cell_type": "code",
   "execution_count": null,
   "metadata": {},
   "outputs": [],
   "source": []
  },
  {
   "cell_type": "code",
   "execution_count": null,
   "metadata": {},
   "outputs": [],
   "source": []
  },
  {
   "cell_type": "code",
   "execution_count": null,
   "metadata": {},
   "outputs": [],
   "source": []
  },
  {
   "cell_type": "code",
   "execution_count": null,
   "metadata": {},
   "outputs": [],
   "source": []
  },
  {
   "cell_type": "code",
   "execution_count": null,
   "metadata": {},
   "outputs": [],
   "source": []
  },
  {
   "cell_type": "code",
   "execution_count": null,
   "metadata": {},
   "outputs": [],
   "source": []
  },
  {
   "cell_type": "code",
   "execution_count": null,
   "metadata": {},
   "outputs": [],
   "source": []
  },
  {
   "cell_type": "code",
   "execution_count": null,
   "metadata": {},
   "outputs": [],
   "source": []
  },
  {
   "cell_type": "code",
   "execution_count": null,
   "metadata": {},
   "outputs": [],
   "source": []
  },
  {
   "cell_type": "code",
   "execution_count": null,
   "metadata": {},
   "outputs": [],
   "source": []
  },
  {
   "cell_type": "code",
   "execution_count": null,
   "metadata": {},
   "outputs": [],
   "source": []
  },
  {
   "cell_type": "code",
   "execution_count": null,
   "metadata": {},
   "outputs": [],
   "source": []
  },
  {
   "cell_type": "code",
   "execution_count": null,
   "metadata": {},
   "outputs": [],
   "source": []
  },
  {
   "cell_type": "code",
   "execution_count": null,
   "metadata": {},
   "outputs": [],
   "source": []
  },
  {
   "cell_type": "code",
   "execution_count": null,
   "metadata": {},
   "outputs": [],
   "source": []
  },
  {
   "cell_type": "code",
   "execution_count": null,
   "metadata": {},
   "outputs": [],
   "source": []
  },
  {
   "cell_type": "code",
   "execution_count": null,
   "metadata": {},
   "outputs": [],
   "source": []
  },
  {
   "cell_type": "code",
   "execution_count": null,
   "metadata": {},
   "outputs": [],
   "source": []
  }
 ],
 "metadata": {
  "interpreter": {
   "hash": "e3bde7f9be308a4ed5b677c98eb4e5423d8d4c39cb1152441ce9aa81adc70699"
  },
  "kernelspec": {
   "display_name": "Python 3.8.8 64-bit ('base': conda)",
   "language": "python",
   "name": "python3"
  },
  "language_info": {
   "codemirror_mode": {
    "name": "ipython",
    "version": 3
   },
   "file_extension": ".py",
   "mimetype": "text/x-python",
   "name": "python",
   "nbconvert_exporter": "python",
   "pygments_lexer": "ipython3",
   "version": "3.8.8"
  },
  "orig_nbformat": 4
 },
 "nbformat": 4,
 "nbformat_minor": 2
}
